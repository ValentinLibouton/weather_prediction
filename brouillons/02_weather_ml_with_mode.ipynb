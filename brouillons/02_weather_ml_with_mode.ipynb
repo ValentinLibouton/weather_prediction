{
 "cells": [
  {
   "cell_type": "code",
   "execution_count": null,
   "id": "initial_id",
   "metadata": {
    "collapsed": true
   },
   "outputs": [],
   "source": [
    "fill_nan_with_mode(weatherAUS, 'Sunshine')\n",
    "fill_nan_with_mode(weatherAUS, 'Evaporation')\n",
    "fill_nan_with_mode(weatherAUS, 'Cloud9am')\n",
    "fill_nan_with_mode(weatherAUS, 'Cloud3pm')\n",
    "fill_nan_with_mode(weatherAUS, 'Pressure9am')\n",
    "fill_nan_with_mode(weatherAUS, 'Pressure3pm')"
   ]
  }
 ],
 "metadata": {
  "kernelspec": {
   "display_name": "Python 3",
   "language": "python",
   "name": "python3"
  },
  "language_info": {
   "codemirror_mode": {
    "name": "ipython",
    "version": 2
   },
   "file_extension": ".py",
   "mimetype": "text/x-python",
   "name": "python",
   "nbconvert_exporter": "python",
   "pygments_lexer": "ipython2",
   "version": "2.7.6"
  }
 },
 "nbformat": 4,
 "nbformat_minor": 5
}
