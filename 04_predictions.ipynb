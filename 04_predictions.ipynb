{
 "cells": [
  {
   "cell_type": "markdown",
   "source": [
    "# Rain in Australia - Post EDA\n",
    "[https://www.kaggle.com/datasets/jsphyg/weather-dataset-rattle-package/data?select=weatherAUS.csv](https://www.kaggle.com/datasets/jsphyg/weather-dataset-rattle-package/data?select=weatherAUS.csv)"
   ],
   "metadata": {
    "collapsed": false
   },
   "id": "6ef34a9e8f84482c"
  },
  {
   "cell_type": "code",
   "outputs": [],
   "source": [
    "from joblib import load\n",
    "import numpy as np\n",
    "import pandas as pd\n",
    "from sklearn.compose import ColumnTransformer\n",
    "from sklearn.pipeline import Pipeline\n",
    "from sklearn.preprocessing import StandardScaler, OneHotEncoder\n",
    "from sklearn.impute import SimpleImputer"
   ],
   "metadata": {
    "collapsed": false,
    "ExecuteTime": {
     "end_time": "2024-02-12T18:47:30.162899082Z",
     "start_time": "2024-02-12T18:47:30.104698004Z"
    }
   },
   "id": "43f14994ad71a222",
   "execution_count": 49
  },
  {
   "cell_type": "code",
   "outputs": [],
   "source": [
    "def weather_predict_SGD(min_temp: float, max_temp: float, rainfall: float, wind_gust_speed: float, humidity: float, wind_speed: float, pressure: float, avg_temp: float, rain_today: bool, month: int, year: int):\n",
    "    rain_today = 1 if rain_today else 0\n",
    "    \n",
    "    # Créer un DataFrame pour stocker les données d'entrée\n",
    "    input_data = pd.DataFrame({\n",
    "        'MinTemp': [min_temp],\n",
    "        'MaxTemp': [max_temp],\n",
    "        'Rainfall': [rainfall],\n",
    "        'WindGustSpeed': [wind_gust_speed],\n",
    "        'Humidity': [humidity],\n",
    "        'WindSpeed': [wind_speed],\n",
    "        'Pressure': [pressure],\n",
    "        'Month': [month],\n",
    "        'Temp': [avg_temp],\n",
    "        'RainToday': [rain_today],\n",
    "        'Year': [year]\n",
    "    })\n",
    "    \n",
    "    # Charger le modèle\n",
    "    loaded_model = load('ML_SGDClassifier.joblib')\n",
    "    \n",
    "    # Prédiction\n",
    "    prediction = loaded_model.predict(input_data)\n",
    "    return prediction"
   ],
   "metadata": {
    "collapsed": false,
    "ExecuteTime": {
     "end_time": "2024-02-12T19:25:18.001508218Z",
     "start_time": "2024-02-12T19:25:17.954136290Z"
    }
   },
   "id": "530a2aafb84e11ad",
   "execution_count": 71
  },
  {
   "cell_type": "markdown",
   "source": [
    "## Test 1"
   ],
   "metadata": {
    "collapsed": false
   },
   "id": "b30f6a7596751ba5"
  },
  {
   "cell_type": "code",
   "outputs": [
    {
     "data": {
      "text/plain": "array([False])"
     },
     "execution_count": 72,
     "metadata": {},
     "output_type": "execute_result"
    }
   ],
   "source": [
    "weather_predict_SGD(min_temp=13.4, max_temp=22.9, rainfall=0.6, wind_gust_speed=44, humidity=46.5, wind_speed=22, pressure=1007.4, avg_temp=19.35, rain_today=False, month=12, year=2008)"
   ],
   "metadata": {
    "collapsed": false,
    "ExecuteTime": {
     "end_time": "2024-02-12T19:25:18.378161217Z",
     "start_time": "2024-02-12T19:25:18.369057763Z"
    }
   },
   "id": "d71bf2193cb5ee5a",
   "execution_count": 72
  },
  {
   "cell_type": "markdown",
   "source": [
    "## Test 2"
   ],
   "metadata": {
    "collapsed": false
   },
   "id": "ed7bfc3fcfde96a0"
  },
  {
   "cell_type": "code",
   "outputs": [
    {
     "data": {
      "text/plain": "array([False])"
     },
     "execution_count": 73,
     "metadata": {},
     "output_type": "execute_result"
    }
   ],
   "source": [
    "weather_predict_SGD(min_temp=15.9, max_temp=21.7, rainfall=2.2, wind_gust_speed=31, humidity=90, wind_speed=14, pressure=1007.35, avg_temp=16.45, rain_today=True, month=12, year=2008)"
   ],
   "metadata": {
    "collapsed": false,
    "ExecuteTime": {
     "end_time": "2024-02-12T19:25:18.777789021Z",
     "start_time": "2024-02-12T19:25:18.770679138Z"
    }
   },
   "id": "79b2c77c0b1590ae",
   "execution_count": 73
  },
  {
   "cell_type": "markdown",
   "source": [
    "## Test 3"
   ],
   "metadata": {
    "collapsed": false
   },
   "id": "2b93262b86ca4789"
  },
  {
   "cell_type": "code",
   "outputs": [
    {
     "data": {
      "text/plain": "array([ True])"
     },
     "execution_count": 74,
     "metadata": {},
     "output_type": "execute_result"
    }
   ],
   "source": [
    "weather_predict_SGD(min_temp=15.9, max_temp=21.7, rainfall=2.2, wind_gust_speed=31, humidity=95, wind_speed=14, pressure=1007.35, avg_temp=16.45, rain_today=True, month=12, year=2008)"
   ],
   "metadata": {
    "collapsed": false,
    "ExecuteTime": {
     "end_time": "2024-02-12T19:25:19.186771095Z",
     "start_time": "2024-02-12T19:25:19.173621947Z"
    }
   },
   "id": "a352ef7b14819c69",
   "execution_count": 74
  },
  {
   "cell_type": "code",
   "outputs": [],
   "source": [],
   "metadata": {
    "collapsed": false
   },
   "id": "4f99581d1101115d"
  }
 ],
 "metadata": {
  "kernelspec": {
   "display_name": "Python 3",
   "language": "python",
   "name": "python3"
  },
  "language_info": {
   "codemirror_mode": {
    "name": "ipython",
    "version": 2
   },
   "file_extension": ".py",
   "mimetype": "text/x-python",
   "name": "python",
   "nbconvert_exporter": "python",
   "pygments_lexer": "ipython2",
   "version": "2.7.6"
  }
 },
 "nbformat": 4,
 "nbformat_minor": 5
}
