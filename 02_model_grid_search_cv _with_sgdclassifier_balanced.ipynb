{
 "cells": [
  {
   "cell_type": "markdown",
   "source": [
    "# Rain in Australia - Post EDA\n",
    "[https://www.kaggle.com/datasets/jsphyg/weather-dataset-rattle-package/data?select=weatherAUS.csv](https://www.kaggle.com/datasets/jsphyg/weather-dataset-rattle-package/data?select=weatherAUS.csv)"
   ],
   "metadata": {
    "collapsed": false
   },
   "id": "6ef34a9e8f84482c"
  },
  {
   "cell_type": "code",
   "outputs": [],
   "source": [
    "import pandas as pd\n",
    "import numpy as np\n",
    "import matplotlib.pyplot as plt\n",
    "import seaborn as sns\n",
    "from sklearn.preprocessing import StandardScaler, OneHotEncoder\n",
    "from sklearn.impute import SimpleImputer\n",
    "from sklearn.pipeline import Pipeline\n",
    "from sklearn.compose import ColumnTransformer\n",
    "from sklearn.svm import SVC,LinearSVC"
   ],
   "metadata": {
    "collapsed": false,
    "is_executing": true
   },
   "id": "43f14994ad71a222",
   "execution_count": null
  },
  {
   "cell_type": "code",
   "outputs": [],
   "source": [
    "weatherAUS = pd.read_csv('weatherAUS.csv')"
   ],
   "metadata": {
    "collapsed": false,
    "is_executing": true
   },
   "id": "3d402cff3164fafb",
   "execution_count": null
  },
  {
   "cell_type": "code",
   "outputs": [],
   "source": [
    "def combine_values(df, column1, column2, verbose=False):\n",
    "    result = pd.Series(index=df.index)\n",
    "\n",
    "    for i, row in df.iterrows():\n",
    "        if pd.isna(row[column1]) and pd.isna(row[column2]):\n",
    "            result[i] = np.nan\n",
    "        elif pd.isna(row[column1]):\n",
    "            result[i] = row[column2]\n",
    "        elif pd.isna(row[column2]):\n",
    "            result[i] = row[column1]\n",
    "        else:\n",
    "            result[i] = (row[column1] + row[column2]) / 2\n",
    "    if verbose:\n",
    "        # Afficher le nombre de NaN dans les colonnes d'entrée et la colonne de sortie\n",
    "        num_nan_input1 = df[column1].isna().sum()\n",
    "        num_nan_input2 = df[column2].isna().sum()\n",
    "        num_nan_output = result.isna().sum()\n",
    "        print(f\"NaN dans {column1}: {num_nan_input1}\")\n",
    "        print(f\"NaN dans {column2}: {num_nan_input2}\")\n",
    "        print(f\"NaN dans la colonne de sortie: {num_nan_output}\")\n",
    "\n",
    "    return result"
   ],
   "metadata": {
    "collapsed": false,
    "is_executing": true
   },
   "id": "d074a580b779a6d8",
   "execution_count": null
  },
  {
   "cell_type": "code",
   "outputs": [],
   "source": [
    "def display_nan_proportion(dataframe: pd.DataFrame, dataframe_name: str = \"le dataframe\"):\n",
    "    nan_proportions = (dataframe.isna().sum() / len(dataframe)) * 100\n",
    "    nan_proportions = nan_proportions.sort_values(ascending=False)\n",
    "    \n",
    "    plt.figure(figsize=(8, 5))\n",
    "    sns.barplot(x=nan_proportions.values, y=nan_proportions.index, hue=nan_proportions.index, palette='viridis', legend=False)\n",
    "    plt.xlabel('Proportion de NaN (%)')\n",
    "    plt.title(f'Proportions de NaN par colonne dans {dataframe_name}')\n",
    "    plt.gca().invert_yaxis()  # La colonne avec le plus de NaN en bas\n",
    "    plt.show()"
   ],
   "metadata": {
    "collapsed": false,
    "is_executing": true
   },
   "id": "5ba77d4c3015dce7",
   "execution_count": null
  },
  {
   "cell_type": "code",
   "outputs": [],
   "source": [
    "weatherAUS['Temp'] = combine_values(weatherAUS, column1='Temp9am', column2='Temp3pm', verbose=True)\n",
    "weatherAUS['Humidity'] = combine_values(weatherAUS, column1='Humidity9am', column2='Humidity3pm', verbose=True)\n",
    "weatherAUS['WindSpeed'] = combine_values(weatherAUS, column1='WindSpeed9am', column2='WindSpeed3pm', verbose=True)\n",
    "weatherAUS['Pressure'] = combine_values(weatherAUS, column1='Pressure9am', column2='Pressure3pm', verbose=True)"
   ],
   "metadata": {
    "collapsed": false,
    "is_executing": true
   },
   "id": "d839d8c6df2d40a1",
   "execution_count": null
  },
  {
   "cell_type": "code",
   "outputs": [],
   "source": [
    "weatherAUS['Date'] = pd.to_datetime(weatherAUS['Date'])\n",
    "weatherAUS['Month'] = weatherAUS['Date'].dt.month\n",
    "weatherAUS['Year'] = weatherAUS['Date'].dt.year"
   ],
   "metadata": {
    "collapsed": false,
    "is_executing": true
   },
   "id": "2ac2d97259101ccd",
   "execution_count": null
  },
  {
   "cell_type": "code",
   "outputs": [],
   "source": [
    "columns_to_keep = ['MinTemp', 'MaxTemp', 'Rainfall', 'WindGustSpeed', 'Humidity', 'WindSpeed', 'Pressure', 'Month', 'Temp', 'RainToday', 'Year', 'RainTomorrow']\n",
    "\n",
    "weatherAUS = weatherAUS[columns_to_keep]"
   ],
   "metadata": {
    "collapsed": false,
    "is_executing": true
   },
   "id": "294d0e9574ac2220",
   "execution_count": null
  },
  {
   "cell_type": "code",
   "outputs": [],
   "source": [
    "display_nan_proportion(dataframe=weatherAUS, dataframe_name=\"weatherAUS\")"
   ],
   "metadata": {
    "collapsed": false,
    "is_executing": true
   },
   "id": "7c2dfaabeafb8f2a",
   "execution_count": null
  },
  {
   "cell_type": "code",
   "outputs": [],
   "source": [
    "weatherAUS.dropna(inplace=True)"
   ],
   "metadata": {
    "collapsed": false,
    "is_executing": true
   },
   "id": "63b9e03bed12100c",
   "execution_count": null
  },
  {
   "cell_type": "code",
   "outputs": [],
   "source": [
    "display_nan_proportion(dataframe=weatherAUS, dataframe_name=\"weatherAUS\")"
   ],
   "metadata": {
    "collapsed": false,
    "is_executing": true
   },
   "id": "fd49efe9c5aecf6b",
   "execution_count": null
  },
  {
   "cell_type": "code",
   "outputs": [],
   "source": [
    "len(weatherAUS)"
   ],
   "metadata": {
    "collapsed": false,
    "is_executing": true
   },
   "id": "b3b4bad70f82d826",
   "execution_count": null
  },
  {
   "cell_type": "code",
   "outputs": [],
   "source": [
    "weatherAUS['RainTomorrow'] = weatherAUS['RainTomorrow'].map({'Yes': True, 'No': False})\n",
    "weatherAUS['RainToday'] = weatherAUS['RainToday'].map({'Yes': True, 'No': False})"
   ],
   "metadata": {
    "collapsed": false,
    "is_executing": true
   },
   "id": "ae1189d262d7acc4",
   "execution_count": null
  },
  {
   "cell_type": "code",
   "outputs": [],
   "source": [
    "weatherAUS"
   ],
   "metadata": {
    "collapsed": false,
    "is_executing": true
   },
   "id": "95f890e85af6b391",
   "execution_count": null
  },
  {
   "cell_type": "code",
   "outputs": [],
   "source": [
    "X = weatherAUS.drop(['RainTomorrow'], axis=1)\n",
    "y = weatherAUS['RainTomorrow']"
   ],
   "metadata": {
    "collapsed": false,
    "is_executing": true
   },
   "id": "9f03ebce1116e33c",
   "execution_count": null
  },
  {
   "cell_type": "code",
   "outputs": [],
   "source": [
    "from imblearn.over_sampling import SMOTE\n",
    "\n",
    "def apply_smote(X, y, sampling_strategy='auto', random_state=None):\n",
    "    \"\"\"\n",
    "    Applique la technique SMOTE (Synthetic Minority Over-sampling Technique) à un jeu de données déséquilibré.\n",
    "    \n",
    "    Args:\n",
    "        X (array-like): Les caractéristiques du jeu de données.\n",
    "        y (array-like): Les étiquettes de classe du jeu de données.\n",
    "        sampling_strategy (str, float, dict or callable): Stratégie de suréchantillonnage. Par défaut, 'auto' est utilisé.\n",
    "        random_state (int, RandomState instance or None, optional): Contrôle la reproductibilité des échantillons aléatoires.\n",
    "    \n",
    "    Returns:\n",
    "        X_resampled (array-like): Les caractéristiques du jeu de données suréchantillonné.\n",
    "        y_resampled (array-like): Les étiquettes de classe du jeu de données suréchantillonné.\n",
    "    \"\"\"\n",
    "    smote = SMOTE(sampling_strategy=sampling_strategy, random_state=random_state)\n",
    "    X_resampled, y_resampled = smote.fit_resample(X, y)\n",
    "    return X_resampled, y_resampled"
   ],
   "metadata": {
    "collapsed": false,
    "is_executing": true
   },
   "id": "2078ddc8e17dca07",
   "execution_count": null
  },
  {
   "cell_type": "code",
   "outputs": [],
   "source": [
    "X_resampled, y_resampled = apply_smote(X, y)"
   ],
   "metadata": {
    "collapsed": false,
    "is_executing": true
   },
   "id": "c20cced30f370a19",
   "execution_count": null
  },
  {
   "cell_type": "code",
   "outputs": [],
   "source": [
    "len(X), len(y), len(X_resampled), len(y_resampled)"
   ],
   "metadata": {
    "collapsed": false,
    "is_executing": true
   },
   "id": "a2e8d31e74c8327d",
   "execution_count": null
  },
  {
   "cell_type": "markdown",
   "source": [
    "## Validation Set et Cross Validation"
   ],
   "metadata": {
    "collapsed": false
   },
   "id": "6eb5b57847863a0f"
  },
  {
   "cell_type": "code",
   "outputs": [],
   "source": [
    "from sklearn.model_selection import train_test_split\n",
    "X_train, X_test, y_train, y_test = train_test_split(X_resampled, y_resampled, test_size=0.2, random_state=42)"
   ],
   "metadata": {
    "collapsed": false,
    "is_executing": true
   },
   "id": "a5aea692177021f8",
   "execution_count": null
  },
  {
   "cell_type": "code",
   "outputs": [],
   "source": [
    "from sklearn.model_selection import cross_val_score\n",
    "from sklearn.linear_model import SGDClassifier"
   ],
   "metadata": {
    "collapsed": false,
    "is_executing": true
   },
   "id": "e72eb87a4ec9b44f",
   "execution_count": null
  },
  {
   "cell_type": "code",
   "outputs": [],
   "source": [
    "model_clf = SGDClassifier(loss='hinge', penalty='l2', max_iter=1000)\n",
    "model_clf = model_clf.fit(X_train, y_train)"
   ],
   "metadata": {
    "collapsed": false,
    "is_executing": true
   },
   "id": "6439c86152684342",
   "execution_count": null
  },
  {
   "cell_type": "markdown",
   "source": [
    "## Evaluation du modèle"
   ],
   "metadata": {
    "collapsed": false
   },
   "id": "8ed8165edefa0966"
  },
  {
   "cell_type": "code",
   "outputs": [],
   "source": [
    "y_pred = model_clf.predict(X_test)\n",
    "from sklearn.metrics import accuracy_score, classification_report\n",
    "accuracy = accuracy_score(y_test, y_pred)\n",
    "report = classification_report(y_test, y_pred)\n",
    "print(\"Accuracy:\", accuracy)\n",
    "print(\"Classification Report:\\n\", report)\n"
   ],
   "metadata": {
    "collapsed": false,
    "is_executing": true
   },
   "id": "eb954941dc23eef5",
   "execution_count": null
  },
  {
   "cell_type": "markdown",
   "source": [
    "## Optimisation des hyperparamètres"
   ],
   "metadata": {
    "collapsed": false
   },
   "id": "167529bcae46f9c5"
  },
  {
   "cell_type": "code",
   "outputs": [],
   "source": [
    "from sklearn.model_selection import GridSearchCV\n",
    "param_grid = {'alpha': [0.0001, 0.001, 0.01, 0.1, 1.0, 10.0]}\n",
    "grid_search = GridSearchCV(model_clf, param_grid, cv=5, verbose=2)\n",
    "grid_search.fit(X_train, y_train)\n",
    "best_params = grid_search.best_params_"
   ],
   "metadata": {
    "collapsed": false,
    "is_executing": true
   },
   "id": "4d392ea946976546",
   "execution_count": null
  },
  {
   "cell_type": "code",
   "outputs": [],
   "source": [
    "print(\"Best params:\",best_params)"
   ],
   "metadata": {
    "collapsed": false,
    "is_executing": true
   },
   "id": "e3551d00f3c7323b",
   "execution_count": null
  },
  {
   "cell_type": "markdown",
   "source": [
    "## Validation croisée"
   ],
   "metadata": {
    "collapsed": false
   },
   "id": "204e9482a3637844"
  },
  {
   "cell_type": "code",
   "outputs": [],
   "source": [
    "scores = cross_val_score(model_clf, X_train, y_train, cv=5, scoring='accuracy')\n",
    "mean_accuracy = scores.mean()\n",
    "mean_accuracy"
   ],
   "metadata": {
    "collapsed": false,
    "is_executing": true
   },
   "id": "ff9d258356bc2fe8",
   "execution_count": null
  },
  {
   "cell_type": "markdown",
   "source": [
    "## Validation curve"
   ],
   "metadata": {
    "collapsed": false
   },
   "id": "2e225f44f47f35a3"
  },
  {
   "cell_type": "code",
   "outputs": [],
   "source": [
    "from sklearn.model_selection import validation_curve"
   ],
   "metadata": {
    "collapsed": false,
    "is_executing": true
   },
   "id": "52bed947783e26df",
   "execution_count": null
  },
  {
   "cell_type": "code",
   "outputs": [],
   "source": [
    "# Définir la gamme de valeurs pour alpha\n",
    "alphas = [0.1, 1, 10]\n",
    "\n",
    "# Créer un modèle SGDClassifier\n",
    "model_clf_2 = SGDClassifier(loss='hinge', penalty='l2', max_iter=1000, tol=1e-3, random_state=0)\n",
    "\n",
    "# Calculer les scores de validation croisée pour chaque valeur d'alpha\n",
    "train_scores, valid_scores = validation_curve(model_clf_2, X_train, y_train, param_name=\"alpha\", param_range=alphas, cv=5)\n",
    "\n",
    "# Calculer la moyenne et l'écart type des scores de validation croisée\n",
    "train_scores_mean = np.mean(train_scores, axis=1)\n",
    "train_scores_std = np.std(train_scores, axis=1)\n",
    "valid_scores_mean = np.mean(valid_scores, axis=1)\n",
    "valid_scores_std = np.std(valid_scores, axis=1)\n",
    "# Traçage des courbes de validation\n",
    "plt.figure(figsize=(20, 10))\n",
    "plt.title(\"Courbes de validation pour SGDClassifier\")\n",
    "plt.xlabel(\"Valeur de alpha\")\n",
    "plt.ylabel(\"Score\")\n",
    "plt.ylim(0.0, 1.1)\n",
    "plt.semilogx(alphas, train_scores_mean, label=\"Score d'entraînement\", color=\"darkorange\", lw=2)\n",
    "plt.fill_between(alphas, train_scores_mean - train_scores_std, train_scores_mean + train_scores_std, alpha=0.2, color=\"darkorange\", lw=2)\n",
    "plt.semilogx(alphas, valid_scores_mean, label=\"Score de validation\", color=\"navy\", lw=2)\n",
    "plt.fill_between(alphas, valid_scores_mean - valid_scores_std, valid_scores_mean + valid_scores_std, alpha=0.2, color=\"navy\", lw=2)\n",
    "plt.legend(loc=\"best\")\n",
    "plt.show()"
   ],
   "metadata": {
    "collapsed": false,
    "is_executing": true
   },
   "id": "79f242a0c946e128",
   "execution_count": null
  },
  {
   "cell_type": "markdown",
   "source": [
    "## Learning Curve"
   ],
   "metadata": {
    "collapsed": false
   },
   "id": "9fd9d9b7b82d984"
  },
  {
   "cell_type": "code",
   "outputs": [],
   "source": [
    "from sklearn.model_selection import learning_curve"
   ],
   "metadata": {
    "collapsed": false,
    "is_executing": true
   },
   "id": "d1a1d4aa8d21fe47",
   "execution_count": null
  },
  {
   "cell_type": "code",
   "outputs": [],
   "source": [
    "train_sizes = np.linspace(0.2, 1.0, num=5)"
   ],
   "metadata": {
    "collapsed": false,
    "is_executing": true
   },
   "id": "c8267447fc7bd8bd",
   "execution_count": null
  },
  {
   "cell_type": "code",
   "outputs": [],
   "source": [
    "N, train_score, valid_score = learning_curve(model_clf_2, X_train, y_train, train_sizes=train_sizes, cv=5)"
   ],
   "metadata": {
    "collapsed": false,
    "is_executing": true
   },
   "id": "f992933286bb533b",
   "execution_count": null
  },
  {
   "cell_type": "code",
   "outputs": [],
   "source": [
    "plt.plot(N, train_score.mean(axis=1), label='train')\n",
    "plt.plot(N, valid_score.mean(axis=1), label='validation')\n",
    "plt.xlabel('train sizes')\n",
    "plt.legend()"
   ],
   "metadata": {
    "collapsed": false,
    "is_executing": true
   },
   "id": "ddc0ce391e2385ff",
   "execution_count": null
  },
  {
   "cell_type": "markdown",
   "source": [
    "## Prepa before GridSearchCV"
   ],
   "metadata": {
    "collapsed": false
   },
   "id": "b82d20a694705bc0"
  },
  {
   "cell_type": "code",
   "outputs": [],
   "source": [
    "categorical_features = ['RainToday', 'Month', 'Year']\n",
    "numerical_features = ['MinTemp', 'MaxTemp', 'Rainfall', 'WindGustSpeed', 'Humidity', 'WindSpeed', 'Pressure', 'Temp']\n",
    "# Création d'un pipeline pour traiter les caractéristiques\n",
    "numerical_transformer = Pipeline(steps=[\n",
    "    ('imputer', SimpleImputer(strategy='mean')),\n",
    "    ('scaler', StandardScaler())\n",
    "])\n",
    "\n",
    "categorical_transformer = Pipeline(steps=[\n",
    "    ('imputer', SimpleImputer(strategy='most_frequent')),\n",
    "    ('onehot', OneHotEncoder(handle_unknown='ignore'))\n",
    "])\n",
    "\n",
    "preprocessor = ColumnTransformer(\n",
    "    transformers=[\n",
    "        ('num', numerical_transformer, numerical_features),\n",
    "        ('cat', categorical_transformer, categorical_features)\n",
    "    ])"
   ],
   "metadata": {
    "collapsed": false,
    "is_executing": true
   },
   "id": "f52bd2a0fc398f1c",
   "execution_count": null
  },
  {
   "cell_type": "markdown",
   "source": [
    "## GridSearchCV - For SGD Classifier"
   ],
   "metadata": {
    "collapsed": false
   },
   "id": "f7e386a3564a84cd"
  },
  {
   "cell_type": "code",
   "outputs": [],
   "source": [
    "# Création du pipeline avec SGDClassifier\n",
    "pipeline = Pipeline(steps=[\n",
    "    ('preprocessor', preprocessor),\n",
    "    ('classifier', SGDClassifier())\n",
    "])\n",
    "\n",
    "# Définition de la grille de recherche des hyperparamètres\n",
    "param_grid = [\n",
    "    {\n",
    "        'classifier__loss': ['hinge', 'log_loss'],\n",
    "        'classifier__penalty': ['l1', 'l2'],\n",
    "        'classifier__alpha': [0.0001, 0.001, 0.01, 0.1, 1, 10, 100],\n",
    "        'classifier__max_iter': [1000]\n",
    "    }\n",
    "]\n",
    "\n",
    "# Recherche sur la grille des hyperparamètres avec validation croisée\n",
    "grid_search = GridSearchCV(pipeline, param_grid, cv=5, verbose=2)\n",
    "grid_search.fit(X_train, y_train)\n",
    "\n",
    "# Affichage des meilleurs paramètres\n",
    "print(\"Meilleurs paramètres trouvés :\")\n",
    "print(grid_search.best_params_)"
   ],
   "metadata": {
    "collapsed": false,
    "is_executing": true
   },
   "id": "b685beabb45dbd6f",
   "execution_count": null
  },
  {
   "cell_type": "code",
   "outputs": [],
   "source": [
    "grid_search.best_score_"
   ],
   "metadata": {
    "collapsed": false,
    "is_executing": true
   },
   "id": "8c44a44963f2bb1d",
   "execution_count": null
  },
  {
   "cell_type": "code",
   "outputs": [],
   "source": [
    "y_pred = grid_search.predict(X_test)"
   ],
   "metadata": {
    "collapsed": false,
    "is_executing": true
   },
   "id": "5f79808f40cb3625",
   "execution_count": null
  },
  {
   "cell_type": "code",
   "outputs": [],
   "source": [
    "from sklearn.metrics import classification_report"
   ],
   "metadata": {
    "collapsed": false,
    "is_executing": true
   },
   "id": "c2b6e74535ca8d15",
   "execution_count": null
  },
  {
   "cell_type": "code",
   "outputs": [],
   "source": [
    "print(\"Rapport de classification :\")\n",
    "print(classification_report(y_test, y_pred))"
   ],
   "metadata": {
    "collapsed": false,
    "is_executing": true
   },
   "id": "927f20e1143131de",
   "execution_count": null
  },
  {
   "cell_type": "code",
   "outputs": [],
   "source": [
    "# Utilisation des meilleurs paramètres trouvés par la recherche sur la grille\n",
    "best_params = grid_search.best_params_\n",
    "# Supprimer le préfixe 'classifier__' des clés de best_params\n",
    "best_params = {key.replace('classifier__', ''): value for key, value in best_params.items()}\n",
    "# Création d'un nouveau modèle avec les meilleurs paramètres\n",
    "best_model = SGDClassifier(**best_params)\n",
    "best_params"
   ],
   "metadata": {
    "collapsed": false,
    "is_executing": true
   },
   "id": "97a5662fba266849",
   "execution_count": null
  },
  {
   "cell_type": "code",
   "outputs": [],
   "source": [
    "# Création d'un nouveau modèle avec les meilleurs paramètres\n",
    "best_model = SGDClassifier(**best_params)\n",
    "best_model"
   ],
   "metadata": {
    "collapsed": false,
    "is_executing": true
   },
   "id": "ecd2815f96935182",
   "execution_count": null
  },
  {
   "cell_type": "code",
   "outputs": [],
   "source": [
    "# Entraînement du modèle sur l'ensemble des données d'entraînement\n",
    "best_model.fit(X_train, y_train)"
   ],
   "metadata": {
    "collapsed": false,
    "is_executing": true
   },
   "id": "a406a8332a8ecb51",
   "execution_count": null
  },
  {
   "cell_type": "code",
   "outputs": [],
   "source": [
    "# Prédiction sur l'ensemble des données de test\n",
    "y_pred = best_model.predict(X_test)\n",
    "\n",
    "# Évaluation de la performance du modèle\n",
    "accuracy = accuracy_score(y_test, y_pred)\n",
    "print(\"Précision du modèle sur l'ensemble des données de test :\", accuracy)"
   ],
   "metadata": {
    "collapsed": false,
    "is_executing": true
   },
   "id": "ced30bc69234d35",
   "execution_count": null
  },
  {
   "cell_type": "code",
   "outputs": [],
   "source": [
    "from joblib import dump\n",
    "\n",
    "# Sauvegarde du modèle dans un fichier\n",
    "dump(best_model, 'ML_SGDClassifier_balanced.joblib')"
   ],
   "metadata": {
    "collapsed": false,
    "is_executing": true
   },
   "id": "80ae274dd31947c2",
   "execution_count": null
  },
  {
   "cell_type": "code",
   "outputs": [],
   "source": [],
   "metadata": {
    "collapsed": false
   },
   "id": "16b907716b579f40"
  }
 ],
 "metadata": {
  "kernelspec": {
   "display_name": "Python 3",
   "language": "python",
   "name": "python3"
  },
  "language_info": {
   "codemirror_mode": {
    "name": "ipython",
    "version": 2
   },
   "file_extension": ".py",
   "mimetype": "text/x-python",
   "name": "python",
   "nbconvert_exporter": "python",
   "pygments_lexer": "ipython2",
   "version": "2.7.6"
  }
 },
 "nbformat": 4,
 "nbformat_minor": 5
}
