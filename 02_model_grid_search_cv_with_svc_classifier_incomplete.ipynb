{
 "cells": [
  {
   "cell_type": "markdown",
   "metadata": {
    "collapsed": false,
    "id": "6ef34a9e8f84482c"
   },
   "source": [
    "# Rain in Australia - Post EDA\n",
    "[https://www.kaggle.com/datasets/jsphyg/weather-dataset-rattle-package/data?select=weatherAUS.csv](https://www.kaggle.com/datasets/jsphyg/weather-dataset-rattle-package/data?select=weatherAUS.csv)"
   ],
   "id": "6ef34a9e8f84482c"
  },
  {
   "cell_type": "code",
   "execution_count": 1,
   "metadata": {
    "id": "43f14994ad71a222",
    "ExecuteTime": {
     "end_time": "2024-02-08T21:42:10.997260782Z",
     "start_time": "2024-02-08T21:42:10.867583950Z"
    }
   },
   "outputs": [],
   "source": [
    "import pandas as pd\n",
    "import numpy as np\n",
    "import matplotlib.pyplot as plt\n",
    "import seaborn as sns\n",
    "from sklearn.impute import SimpleImputer\n",
    "from sklearn.pipeline import make_pipeline\n",
    "from sklearn.preprocessing import OneHotEncoder\n",
    "from sklearn.preprocessing import StandardScaler, OneHotEncoder\n",
    "from sklearn.impute import SimpleImputer\n",
    "from sklearn.compose import make_column_selector, make_column_transformer\n",
    "from sklearn.linear_model import SGDClassifier\n",
    "\n",
    "from sklearn.pipeline import Pipeline\n",
    "from sklearn.compose import ColumnTransformer\n",
    "from sklearn.svm import SVC, NuSVC, LinearSVC\n",
    "from sklearn.model_selection import GridSearchCV\n",
    "from sklearn.datasets import make_classification"
   ],
   "id": "43f14994ad71a222"
  },
  {
   "cell_type": "code",
   "execution_count": 5,
   "metadata": {
    "id": "3d402cff3164fafb",
    "ExecuteTime": {
     "end_time": "2024-02-08T21:42:30.556853540Z",
     "start_time": "2024-02-08T21:42:30.353814664Z"
    }
   },
   "outputs": [],
   "source": [
    "weatherAUS = pd.read_csv('weatherAUS.csv')"
   ],
   "id": "3d402cff3164fafb"
  },
  {
   "cell_type": "code",
   "source": [
    "len(weatherAUS)"
   ],
   "metadata": {
    "colab": {
     "base_uri": "https://localhost:8080/"
    },
    "id": "5hiQ_nfklSbC",
    "outputId": "5415fce1-1ef1-452a-a26e-9f3663e20404",
    "ExecuteTime": {
     "end_time": "2024-02-08T21:42:31.492203371Z",
     "start_time": "2024-02-08T21:42:31.454180524Z"
    }
   },
   "id": "5hiQ_nfklSbC",
   "execution_count": 6,
   "outputs": [
    {
     "data": {
      "text/plain": "145460"
     },
     "execution_count": 6,
     "metadata": {},
     "output_type": "execute_result"
    }
   ]
  },
  {
   "cell_type": "code",
   "execution_count": 7,
   "metadata": {
    "id": "d074a580b779a6d8",
    "ExecuteTime": {
     "end_time": "2024-02-08T21:42:31.888094704Z",
     "start_time": "2024-02-08T21:42:31.858176641Z"
    }
   },
   "outputs": [],
   "source": [
    "def combine_values(df, column1, column2, verbose=False):\n",
    "    result = pd.Series(index=df.index)\n",
    "\n",
    "    for i, row in df.iterrows():\n",
    "        if pd.isna(row[column1]) and pd.isna(row[column2]):\n",
    "            result[i] = np.nan\n",
    "        elif pd.isna(row[column1]):\n",
    "            result[i] = row[column2]\n",
    "        elif pd.isna(row[column2]):\n",
    "            result[i] = row[column1]\n",
    "        else:\n",
    "            result[i] = (row[column1] + row[column2]) / 2\n",
    "    if verbose:\n",
    "        # Afficher le nombre de NaN dans les colonnes d'entrée et la colonne de sortie\n",
    "        num_nan_input1 = df[column1].isna().sum()\n",
    "        num_nan_input2 = df[column2].isna().sum()\n",
    "        num_nan_output = result.isna().sum()\n",
    "        print(f\"NaN dans {column1}: {num_nan_input1}\")\n",
    "        print(f\"NaN dans {column2}: {num_nan_input2}\")\n",
    "        print(f\"NaN dans la colonne de sortie: {num_nan_output}\")\n",
    "\n",
    "    return result"
   ],
   "id": "d074a580b779a6d8"
  },
  {
   "cell_type": "code",
   "execution_count": 8,
   "metadata": {
    "id": "5ba77d4c3015dce7",
    "ExecuteTime": {
     "end_time": "2024-02-08T21:42:33.141170752Z",
     "start_time": "2024-02-08T21:42:33.096991227Z"
    }
   },
   "outputs": [],
   "source": [
    "def display_nan_proportion(dataframe: pd.DataFrame, dataframe_name: str = \"le dataframe\"):\n",
    "    nan_proportions = (dataframe.isna().sum() / len(dataframe)) * 100\n",
    "    nan_proportions = nan_proportions.sort_values(ascending=False)\n",
    "\n",
    "    plt.figure(figsize=(8, 5))\n",
    "    sns.barplot(x=nan_proportions.values, y=nan_proportions.index, hue=nan_proportions.index, palette='viridis', legend=False)\n",
    "    plt.xlabel('Proportion de NaN (%)')\n",
    "    plt.title(f'Proportions de NaN par colonne dans {dataframe_name}')\n",
    "    plt.gca().invert_yaxis()  # La colonne avec le plus de NaN en bas\n",
    "    plt.show()"
   ],
   "id": "5ba77d4c3015dce7"
  },
  {
   "cell_type": "code",
   "execution_count": 9,
   "metadata": {
    "id": "d839d8c6df2d40a1",
    "colab": {
     "base_uri": "https://localhost:8080/"
    },
    "outputId": "689006af-c9c1-4ccf-e4ca-a9209bc2b9f5",
    "ExecuteTime": {
     "end_time": "2024-02-08T21:43:18.272958522Z",
     "start_time": "2024-02-08T21:42:34.035701828Z"
    }
   },
   "outputs": [
    {
     "name": "stdout",
     "output_type": "stream",
     "text": [
      "NaN dans Temp9am: 1767\n",
      "NaN dans Temp3pm: 3609\n",
      "NaN dans la colonne de sortie: 1129\n",
      "NaN dans Humidity9am: 2654\n",
      "NaN dans Humidity3pm: 4507\n",
      "NaN dans la colonne de sortie: 1887\n",
      "NaN dans WindSpeed9am: 1767\n",
      "NaN dans WindSpeed3pm: 3062\n",
      "NaN dans la colonne de sortie: 1213\n",
      "NaN dans Pressure9am: 15065\n",
      "NaN dans Pressure3pm: 15028\n",
      "NaN dans la colonne de sortie: 14804\n"
     ]
    }
   ],
   "source": [
    "weatherAUS['Temp'] = combine_values(weatherAUS, column1='Temp9am', column2='Temp3pm', verbose=True)\n",
    "weatherAUS['Humidity'] = combine_values(weatherAUS, column1='Humidity9am', column2='Humidity3pm', verbose=True)\n",
    "weatherAUS['WindSpeed'] = combine_values(weatherAUS, column1='WindSpeed9am', column2='WindSpeed3pm', verbose=True)\n",
    "weatherAUS['Pressure'] = combine_values(weatherAUS, column1='Pressure9am', column2='Pressure3pm', verbose=True)"
   ],
   "id": "d839d8c6df2d40a1"
  },
  {
   "cell_type": "code",
   "execution_count": 10,
   "metadata": {
    "id": "2ac2d97259101ccd",
    "ExecuteTime": {
     "end_time": "2024-02-08T21:43:18.332893323Z",
     "start_time": "2024-02-08T21:43:18.297314131Z"
    }
   },
   "outputs": [],
   "source": [
    "weatherAUS['Date'] = pd.to_datetime(weatherAUS['Date'])\n",
    "weatherAUS['Month'] = weatherAUS['Date'].dt.month\n",
    "weatherAUS['Year'] = weatherAUS['Date'].dt.year"
   ],
   "id": "2ac2d97259101ccd"
  },
  {
   "cell_type": "code",
   "execution_count": 11,
   "metadata": {
    "id": "294d0e9574ac2220",
    "ExecuteTime": {
     "end_time": "2024-02-08T21:43:18.334665272Z",
     "start_time": "2024-02-08T21:43:18.317911093Z"
    }
   },
   "outputs": [],
   "source": [
    "columns_to_keep = ['MinTemp', 'MaxTemp', 'Rainfall', 'WindGustSpeed', 'Humidity', 'WindSpeed', 'Pressure', 'Month', 'Temp', 'RainToday', 'Year', 'RainTomorrow']\n",
    "\n",
    "weatherAUS = weatherAUS[columns_to_keep]\n"
   ],
   "id": "294d0e9574ac2220"
  },
  {
   "cell_type": "code",
   "execution_count": 12,
   "metadata": {
    "id": "7c2dfaabeafb8f2a",
    "colab": {
     "base_uri": "https://localhost:8080/",
     "height": 487
    },
    "outputId": "f867c779-b724-4eb2-924d-0c7ac9696002",
    "ExecuteTime": {
     "end_time": "2024-02-08T21:43:18.621568683Z",
     "start_time": "2024-02-08T21:43:18.333201515Z"
    }
   },
   "outputs": [
    {
     "data": {
      "text/plain": "<Figure size 800x500 with 1 Axes>",
      "image/png": "[encoded data removed]"
     },
     "metadata": {},
     "output_type": "display_data"
    }
   ],
   "source": [
    "display_nan_proportion(dataframe=weatherAUS, dataframe_name=\"weatherAUS\")"
   ],
   "id": "7c2dfaabeafb8f2a"
  },
  {
   "cell_type": "code",
   "execution_count": 13,
   "metadata": {
    "id": "63b9e03bed12100c",
    "ExecuteTime": {
     "end_time": "2024-02-08T21:43:18.732525310Z",
     "start_time": "2024-02-08T21:43:18.622948774Z"
    }
   },
   "outputs": [],
   "source": [
    "weatherAUS.dropna(inplace=True)"
   ],
   "id": "63b9e03bed12100c"
  },
  {
   "cell_type": "code",
   "execution_count": 14,
   "metadata": {
    "id": "fd49efe9c5aecf6b",
    "colab": {
     "base_uri": "https://localhost:8080/",
     "height": 487
    },
    "outputId": "d12e6052-0d93-4a51-db15-7f657e667be1",
    "ExecuteTime": {
     "end_time": "2024-02-08T21:43:18.893482930Z",
     "start_time": "2024-02-08T21:43:18.670879964Z"
    }
   },
   "outputs": [
    {
     "data": {
      "text/plain": "<Figure size 800x500 with 1 Axes>",
      "image/png": "[encoded data removed]"
     },
     "metadata": {},
     "output_type": "display_data"
    }
   ],
   "source": [
    "display_nan_proportion(dataframe=weatherAUS, dataframe_name=\"weatherAUS\")"
   ],
   "id": "fd49efe9c5aecf6b"
  },
  {
   "cell_type": "code",
   "execution_count": 15,
   "metadata": {
    "id": "b3b4bad70f82d826",
    "colab": {
     "base_uri": "https://localhost:8080/"
    },
    "outputId": "c127a8d1-90ec-421e-9e09-cb575cf154d0",
    "ExecuteTime": {
     "end_time": "2024-02-08T21:43:18.905140929Z",
     "start_time": "2024-02-08T21:43:18.895118215Z"
    }
   },
   "outputs": [
    {
     "data": {
      "text/plain": "120960"
     },
     "execution_count": 15,
     "metadata": {},
     "output_type": "execute_result"
    }
   ],
   "source": [
    "len(weatherAUS)"
   ],
   "id": "b3b4bad70f82d826"
  },
  {
   "cell_type": "code",
   "execution_count": 16,
   "metadata": {
    "id": "ae1189d262d7acc4",
    "ExecuteTime": {
     "end_time": "2024-02-08T21:43:19.006415636Z",
     "start_time": "2024-02-08T21:43:18.906723757Z"
    }
   },
   "outputs": [],
   "source": [
    "weatherAUS['RainTomorrow'] = weatherAUS['RainTomorrow'].map({'Yes': True, 'No': False})\n",
    "weatherAUS['RainToday'] = weatherAUS['RainToday'].map({'Yes': True, 'No': False})"
   ],
   "id": "ae1189d262d7acc4"
  },
  {
   "cell_type": "code",
   "execution_count": 17,
   "metadata": {
    "id": "95f890e85af6b391",
    "colab": {
     "base_uri": "https://localhost:8080/",
     "height": 424
    },
    "outputId": "72daa822-c11e-4dca-fa77-efa3dbeac8b3",
    "ExecuteTime": {
     "end_time": "2024-02-08T21:43:19.010747827Z",
     "start_time": "2024-02-08T21:43:18.916026956Z"
    }
   },
   "outputs": [
    {
     "data": {
      "text/plain": "        MinTemp  MaxTemp  Rainfall  WindGustSpeed  Humidity  WindSpeed  \\\n0          13.4     22.9       0.6           44.0      46.5       22.0   \n1           7.4     25.1       0.0           44.0      34.5       13.0   \n2          12.9     25.7       0.0           46.0      34.0       22.5   \n3           9.2     28.0       0.0           24.0      30.5       10.0   \n4          17.5     32.3       1.0           41.0      57.5       13.5   \n...         ...      ...       ...            ...       ...        ...   \n145454      3.5     21.8       0.0           31.0      43.0       14.0   \n145455      2.8     23.4       0.0           31.0      37.5       12.0   \n145456      3.6     25.3       0.0           22.0      38.5       11.0   \n145457      5.4     26.9       0.0           37.0      38.5        9.0   \n145458      7.8     27.0       0.0           28.0      37.5       10.0   \n\n        Pressure  Month   Temp  RainToday  Year  RainTomorrow  \n0        1007.40     12  19.35      False  2008         False  \n1        1009.20     12  20.75      False  2008         False  \n2        1008.15     12  22.10      False  2008         False  \n3        1015.20     12  22.30      False  2008         False  \n4        1008.40     12  23.75      False  2008         False  \n...          ...    ...    ...        ...   ...           ...  \n145454   1022.95      6  15.15      False  2017         False  \n145455   1022.45      6  16.25      False  2017         False  \n145456   1021.30      6  17.70      False  2017         False  \n145457   1018.90      6  19.30      False  2017         False  \n145458   1017.95      6  20.55      False  2017         False  \n\n[120960 rows x 12 columns]",
      "text/html": "<div>\n<style scoped>\n    .dataframe tbody tr th:only-of-type {\n        vertical-align: middle;\n    }\n\n    .dataframe tbody tr th {\n        vertical-align: top;\n    }\n\n    .dataframe thead th {\n        text-align: right;\n    }\n</style>\n<table border=\"1\" class=\"dataframe\">\n  <thead>\n    <tr style=\"text-align: right;\">\n      <th></th>\n      <th>MinTemp</th>\n      <th>MaxTemp</th>\n      <th>Rainfall</th>\n      <th>WindGustSpeed</th>\n      <th>Humidity</th>\n      <th>WindSpeed</th>\n      <th>Pressure</th>\n      <th>Month</th>\n      <th>Temp</th>\n      <th>RainToday</th>\n      <th>Year</th>\n      <th>RainTomorrow</th>\n    </tr>\n  </thead>\n  <tbody>\n    <tr>\n      <th>0</th>\n      <td>13.4</td>\n      <td>22.9</td>\n      <td>0.6</td>\n      <td>44.0</td>\n      <td>46.5</td>\n      <td>22.0</td>\n      <td>1007.40</td>\n      <td>12</td>\n      <td>19.35</td>\n      <td>False</td>\n      <td>2008</td>\n      <td>False</td>\n    </tr>\n    <tr>\n      <th>1</th>\n      <td>7.4</td>\n      <td>25.1</td>\n      <td>0.0</td>\n      <td>44.0</td>\n      <td>34.5</td>\n      <td>13.0</td>\n      <td>1009.20</td>\n      <td>12</td>\n      <td>20.75</td>\n      <td>False</td>\n      <td>2008</td>\n      <td>False</td>\n    </tr>\n    <tr>\n      <th>2</th>\n      <td>12.9</td>\n      <td>25.7</td>\n      <td>0.0</td>\n      <td>46.0</td>\n      <td>34.0</td>\n      <td>22.5</td>\n      <td>1008.15</td>\n      <td>12</td>\n      <td>22.10</td>\n      <td>False</td>\n      <td>2008</td>\n      <td>False</td>\n    </tr>\n    <tr>\n      <th>3</th>\n      <td>9.2</td>\n      <td>28.0</td>\n      <td>0.0</td>\n      <td>24.0</td>\n      <td>30.5</td>\n      <td>10.0</td>\n      <td>1015.20</td>\n      <td>12</td>\n      <td>22.30</td>\n      <td>False</td>\n      <td>2008</td>\n      <td>False</td>\n    </tr>\n    <tr>\n      <th>4</th>\n      <td>17.5</td>\n      <td>32.3</td>\n      <td>1.0</td>\n      <td>41.0</td>\n      <td>57.5</td>\n      <td>13.5</td>\n      <td>1008.40</td>\n      <td>12</td>\n      <td>23.75</td>\n      <td>False</td>\n      <td>2008</td>\n      <td>False</td>\n    </tr>\n    <tr>\n      <th>...</th>\n      <td>...</td>\n      <td>...</td>\n      <td>...</td>\n      <td>...</td>\n      <td>...</td>\n      <td>...</td>\n      <td>...</td>\n      <td>...</td>\n      <td>...</td>\n      <td>...</td>\n      <td>...</td>\n      <td>...</td>\n    </tr>\n    <tr>\n      <th>145454</th>\n      <td>3.5</td>\n      <td>21.8</td>\n      <td>0.0</td>\n      <td>31.0</td>\n      <td>43.0</td>\n      <td>14.0</td>\n      <td>1022.95</td>\n      <td>6</td>\n      <td>15.15</td>\n      <td>False</td>\n      <td>2017</td>\n      <td>False</td>\n    </tr>\n    <tr>\n      <th>145455</th>\n      <td>2.8</td>\n      <td>23.4</td>\n      <td>0.0</td>\n      <td>31.0</td>\n      <td>37.5</td>\n      <td>12.0</td>\n      <td>1022.45</td>\n      <td>6</td>\n      <td>16.25</td>\n      <td>False</td>\n      <td>2017</td>\n      <td>False</td>\n    </tr>\n    <tr>\n      <th>145456</th>\n      <td>3.6</td>\n      <td>25.3</td>\n      <td>0.0</td>\n      <td>22.0</td>\n      <td>38.5</td>\n      <td>11.0</td>\n      <td>1021.30</td>\n      <td>6</td>\n      <td>17.70</td>\n      <td>False</td>\n      <td>2017</td>\n      <td>False</td>\n    </tr>\n    <tr>\n      <th>145457</th>\n      <td>5.4</td>\n      <td>26.9</td>\n      <td>0.0</td>\n      <td>37.0</td>\n      <td>38.5</td>\n      <td>9.0</td>\n      <td>1018.90</td>\n      <td>6</td>\n      <td>19.30</td>\n      <td>False</td>\n      <td>2017</td>\n      <td>False</td>\n    </tr>\n    <tr>\n      <th>145458</th>\n      <td>7.8</td>\n      <td>27.0</td>\n      <td>0.0</td>\n      <td>28.0</td>\n      <td>37.5</td>\n      <td>10.0</td>\n      <td>1017.95</td>\n      <td>6</td>\n      <td>20.55</td>\n      <td>False</td>\n      <td>2017</td>\n      <td>False</td>\n    </tr>\n  </tbody>\n</table>\n<p>120960 rows × 12 columns</p>\n</div>"
     },
     "execution_count": 17,
     "metadata": {},
     "output_type": "execute_result"
    }
   ],
   "source": [
    "weatherAUS"
   ],
   "id": "95f890e85af6b391"
  },
  {
   "cell_type": "code",
   "outputs": [],
   "source": [
    "X = weatherAUS.drop(['RainTomorrow'], axis=1)\n",
    "y = weatherAUS['RainTomorrow']"
   ],
   "metadata": {
    "collapsed": false,
    "ExecuteTime": {
     "end_time": "2024-02-08T21:43:19.023688778Z",
     "start_time": "2024-02-08T21:43:18.935481999Z"
    }
   },
   "id": "9f03ebce1116e33c",
   "execution_count": 18
  },
  {
   "cell_type": "code",
   "outputs": [],
   "source": [
    "from sklearn.model_selection import train_test_split\n",
    "X_train, X_test, y_train, y_test = train_test_split(X, y, test_size=0.2, random_state=42)"
   ],
   "metadata": {
    "collapsed": false,
    "ExecuteTime": {
     "end_time": "2024-02-08T21:43:19.052317269Z",
     "start_time": "2024-02-08T21:43:18.944876046Z"
    }
   },
   "id": "e0049c96fc0a1fa7",
   "execution_count": 19
  },
  {
   "cell_type": "code",
   "outputs": [],
   "source": [
    "categorical_features = ['RainToday', 'Month', 'Year']\n",
    "numerical_features = ['MinTemp', 'MaxTemp', 'Rainfall', 'WindGustSpeed', 'Humidity', 'WindSpeed', 'Pressure', 'Temp']"
   ],
   "metadata": {
    "collapsed": false,
    "ExecuteTime": {
     "end_time": "2024-02-08T21:43:19.053958495Z",
     "start_time": "2024-02-08T21:43:18.965924917Z"
    }
   },
   "id": "b685beabb45dbd6f",
   "execution_count": 20
  },
  {
   "cell_type": "code",
   "outputs": [],
   "source": [
    "# Création d'un pipeline pour traiter les caractéristiques\n",
    "numerical_transformer = Pipeline(steps=[\n",
    "    ('imputer', SimpleImputer(strategy='mean')),\n",
    "    ('scaler', StandardScaler())\n",
    "])\n",
    "\n",
    "categorical_transformer = Pipeline(steps=[\n",
    "    ('imputer', SimpleImputer(strategy='most_frequent')),\n",
    "    ('onehot', OneHotEncoder(handle_unknown='ignore'))\n",
    "])\n",
    "\n",
    "preprocessor = ColumnTransformer(\n",
    "    transformers=[\n",
    "        ('num', numerical_transformer, numerical_features),\n",
    "        ('cat', categorical_transformer, categorical_features)\n",
    "    ])"
   ],
   "metadata": {
    "collapsed": false,
    "ExecuteTime": {
     "end_time": "2024-02-08T21:43:19.055270330Z",
     "start_time": "2024-02-08T21:43:18.972018728Z"
    }
   },
   "id": "7abcbc294b0f7fe4",
   "execution_count": 21
  },
  {
   "cell_type": "code",
   "outputs": [],
   "source": [
    "# Création du pipeline avec un classificateur SVM\n",
    "pipeline = Pipeline(steps=[('preprocessor', preprocessor),\n",
    "                           ('classifier', SVC())])"
   ],
   "metadata": {
    "collapsed": false,
    "ExecuteTime": {
     "end_time": "2024-02-08T21:43:19.056584219Z",
     "start_time": "2024-02-08T21:43:18.976601294Z"
    }
   },
   "id": "ab24614d9b33da45",
   "execution_count": 22
  },
  {
   "cell_type": "code",
   "outputs": [],
   "source": [
    "# Définition de la grille de recherche des hyperparamètres\n",
    "param_grid = [\n",
    "    {\n",
    "        'classifier': [SVC()],\n",
    "        'classifier__C': [0.1, 1, 10, 100],\n",
    "        'classifier__kernel': ['linear', 'rbf', 'poly'],\n",
    "    },\n",
    "    {\n",
    "        'classifier': [LinearSVC()],\n",
    "        'classifier__C': [0.1, 1, 10, 100],\n",
    "    }\n",
    "]\n"
   ],
   "metadata": {
    "collapsed": false,
    "ExecuteTime": {
     "end_time": "2024-02-08T21:43:19.057795417Z",
     "start_time": "2024-02-08T21:43:18.980920161Z"
    }
   },
   "id": "7164e2e0b97782df",
   "execution_count": 23
  },
  {
   "cell_type": "code",
   "outputs": [],
   "source": [
    "from sklearn.metrics import make_scorer, roc_auc_score\n",
    "# Définition de la métrique d'évaluation comme ROC AUC\n",
    "scoring = {'ROC AUC': make_scorer(roc_auc_score)}"
   ],
   "metadata": {
    "collapsed": false,
    "ExecuteTime": {
     "end_time": "2024-02-08T21:43:19.068284537Z",
     "start_time": "2024-02-08T21:43:18.985472361Z"
    }
   },
   "id": "VnjbyqHfcqDs",
   "execution_count": 24
  },
  {
   "cell_type": "code",
   "execution_count": 25,
   "metadata": {
    "id": "7ec2f2c71d4781b",
    "colab": {
     "base_uri": "https://localhost:8080/"
    },
    "outputId": "e810d2fd-879c-4814-a5a7-a45fa591c41c",
    "ExecuteTime": {
     "end_time": "2024-02-10T14:14:10.723117647Z",
     "start_time": "2024-02-08T21:43:18.992013102Z"
    }
   },
   "outputs": [
    {
     "name": "stdout",
     "output_type": "stream",
     "text": [
      "Fitting 5 folds for each of 16 candidates, totalling 80 fits\n",
      "[CV] END classifier=SVC(), classifier__C=0.1, classifier__kernel=linear; total time= 2.9min\n",
      "[CV] END classifier=SVC(), classifier__C=0.1, classifier__kernel=linear; total time= 2.9min\n",
      "[CV] END classifier=SVC(), classifier__C=0.1, classifier__kernel=linear; total time= 2.9min\n",
      "[CV] END classifier=SVC(), classifier__C=0.1, classifier__kernel=linear; total time= 2.9min\n",
      "[CV] END classifier=SVC(), classifier__C=0.1, classifier__kernel=linear; total time= 2.9min\n",
      "[CV] END classifier=SVC(), classifier__C=0.1, classifier__kernel=rbf; total time= 3.7min\n",
      "[CV] END classifier=SVC(), classifier__C=0.1, classifier__kernel=rbf; total time= 3.6min\n",
      "[CV] END classifier=SVC(), classifier__C=0.1, classifier__kernel=rbf; total time= 3.7min\n",
      "[CV] END classifier=SVC(), classifier__C=0.1, classifier__kernel=rbf; total time= 3.7min\n",
      "[CV] END classifier=SVC(), classifier__C=0.1, classifier__kernel=rbf; total time= 3.4min\n",
      "[CV] END classifier=SVC(), classifier__C=0.1, classifier__kernel=poly; total time= 2.8min\n",
      "[CV] END classifier=SVC(), classifier__C=0.1, classifier__kernel=poly; total time= 2.7min\n",
      "[CV] END classifier=SVC(), classifier__C=0.1, classifier__kernel=poly; total time= 2.9min\n",
      "[CV] END classifier=SVC(), classifier__C=0.1, classifier__kernel=poly; total time= 2.9min\n",
      "[CV] END classifier=SVC(), classifier__C=0.1, classifier__kernel=poly; total time= 2.9min\n",
      "[CV] END classifier=SVC(), classifier__C=1, classifier__kernel=linear; total time= 5.2min\n",
      "[CV] END classifier=SVC(), classifier__C=1, classifier__kernel=linear; total time= 5.2min\n",
      "[CV] END classifier=SVC(), classifier__C=1, classifier__kernel=linear; total time= 5.5min\n",
      "[CV] END classifier=SVC(), classifier__C=1, classifier__kernel=linear; total time= 5.5min\n",
      "[CV] END classifier=SVC(), classifier__C=1, classifier__kernel=linear; total time= 5.4min\n",
      "[CV] END classifier=SVC(), classifier__C=1, classifier__kernel=rbf; total time= 4.5min\n",
      "[CV] END classifier=SVC(), classifier__C=1, classifier__kernel=rbf; total time= 4.5min\n",
      "[CV] END classifier=SVC(), classifier__C=1, classifier__kernel=rbf; total time= 4.4min\n",
      "[CV] END classifier=SVC(), classifier__C=1, classifier__kernel=rbf; total time= 4.8min\n",
      "[CV] END classifier=SVC(), classifier__C=1, classifier__kernel=rbf; total time= 4.6min\n",
      "[CV] END classifier=SVC(), classifier__C=1, classifier__kernel=poly; total time= 4.7min\n",
      "[CV] END classifier=SVC(), classifier__C=1, classifier__kernel=poly; total time= 4.7min\n",
      "[CV] END classifier=SVC(), classifier__C=1, classifier__kernel=poly; total time= 4.7min\n",
      "[CV] END classifier=SVC(), classifier__C=1, classifier__kernel=poly; total time= 4.7min\n",
      "[CV] END classifier=SVC(), classifier__C=1, classifier__kernel=poly; total time= 4.6min\n",
      "[CV] END classifier=SVC(), classifier__C=10, classifier__kernel=linear; total time=23.7min\n",
      "[CV] END classifier=SVC(), classifier__C=10, classifier__kernel=linear; total time=23.8min\n",
      "[CV] END classifier=SVC(), classifier__C=10, classifier__kernel=linear; total time=24.0min\n",
      "[CV] END classifier=SVC(), classifier__C=10, classifier__kernel=linear; total time=23.9min\n",
      "[CV] END classifier=SVC(), classifier__C=10, classifier__kernel=linear; total time=23.6min\n",
      "[CV] END classifier=SVC(), classifier__C=10, classifier__kernel=rbf; total time=10.1min\n",
      "[CV] END classifier=SVC(), classifier__C=10, classifier__kernel=rbf; total time= 9.9min\n",
      "[CV] END classifier=SVC(), classifier__C=10, classifier__kernel=rbf; total time=10.0min\n",
      "[CV] END classifier=SVC(), classifier__C=10, classifier__kernel=rbf; total time=10.3min\n",
      "[CV] END classifier=SVC(), classifier__C=10, classifier__kernel=rbf; total time=10.1min\n",
      "[CV] END classifier=SVC(), classifier__C=10, classifier__kernel=poly; total time=18.4min\n",
      "[CV] END classifier=SVC(), classifier__C=10, classifier__kernel=poly; total time=18.6min\n",
      "[CV] END classifier=SVC(), classifier__C=10, classifier__kernel=poly; total time=18.2min\n",
      "[CV] END classifier=SVC(), classifier__C=10, classifier__kernel=poly; total time=18.9min\n",
      "[CV] END classifier=SVC(), classifier__C=10, classifier__kernel=poly; total time=18.5min\n",
      "[CV] END classifier=SVC(), classifier__C=100, classifier__kernel=linear; total time=185.4min\n",
      "[CV] END classifier=SVC(), classifier__C=100, classifier__kernel=linear; total time=185.2min\n",
      "[CV] END classifier=SVC(), classifier__C=100, classifier__kernel=linear; total time=185.7min\n",
      "[CV] END classifier=SVC(), classifier__C=100, classifier__kernel=linear; total time=188.5min\n",
      "[CV] END classifier=SVC(), classifier__C=100, classifier__kernel=linear; total time=187.3min\n",
      "[CV] END classifier=SVC(), classifier__C=100, classifier__kernel=rbf; total time=57.4min\n",
      "[CV] END classifier=SVC(), classifier__C=100, classifier__kernel=rbf; total time=56.8min\n",
      "[CV] END classifier=SVC(), classifier__C=100, classifier__kernel=rbf; total time=60.1min\n",
      "[CV] END classifier=SVC(), classifier__C=100, classifier__kernel=rbf; total time=57.5min\n",
      "[CV] END classifier=SVC(), classifier__C=100, classifier__kernel=rbf; total time=55.9min\n",
      "[CV] END classifier=SVC(), classifier__C=100, classifier__kernel=poly; total time=156.2min\n",
      "[CV] END classifier=SVC(), classifier__C=100, classifier__kernel=poly; total time=136.1min\n",
      "[CV] END classifier=SVC(), classifier__C=100, classifier__kernel=poly; total time=137.8min\n",
      "[CV] END classifier=SVC(), classifier__C=100, classifier__kernel=poly; total time=143.9min\n",
      "[CV] END classifier=SVC(), classifier__C=100, classifier__kernel=poly; total time=152.9min\n"
     ]
    },
    {
     "name": "stderr",
     "output_type": "stream",
     "text": [
      "/home/wm18vw/Documents/EnvironnementsDevPython/miniconda3/envs/ML-env/lib/python3.9/site-packages/sklearn/svm/_classes.py:31: FutureWarning: The default value of `dual` will change from `True` to `'auto'` in 1.5. Set the value of `dual` explicitly to suppress the warning.\n",
      "  warnings.warn(\n",
      "/home/wm18vw/Documents/EnvironnementsDevPython/miniconda3/envs/ML-env/lib/python3.9/site-packages/sklearn/svm/_base.py:1237: ConvergenceWarning: Liblinear failed to converge, increase the number of iterations.\n",
      "  warnings.warn(\n",
      "/home/wm18vw/Documents/EnvironnementsDevPython/miniconda3/envs/ML-env/lib/python3.9/site-packages/sklearn/svm/_classes.py:31: FutureWarning: The default value of `dual` will change from `True` to `'auto'` in 1.5. Set the value of `dual` explicitly to suppress the warning.\n",
      "  warnings.warn(\n"
     ]
    },
    {
     "name": "stdout",
     "output_type": "stream",
     "text": [
      "[CV] END ..........classifier=LinearSVC(), classifier__C=0.1; total time=   7.1s\n"
     ]
    },
    {
     "name": "stderr",
     "output_type": "stream",
     "text": [
      "/home/wm18vw/Documents/EnvironnementsDevPython/miniconda3/envs/ML-env/lib/python3.9/site-packages/sklearn/svm/_base.py:1237: ConvergenceWarning: Liblinear failed to converge, increase the number of iterations.\n",
      "  warnings.warn(\n",
      "/home/wm18vw/Documents/EnvironnementsDevPython/miniconda3/envs/ML-env/lib/python3.9/site-packages/sklearn/svm/_classes.py:31: FutureWarning: The default value of `dual` will change from `True` to `'auto'` in 1.5. Set the value of `dual` explicitly to suppress the warning.\n",
      "  warnings.warn(\n"
     ]
    },
    {
     "name": "stdout",
     "output_type": "stream",
     "text": [
      "[CV] END ..........classifier=LinearSVC(), classifier__C=0.1; total time=   7.1s\n"
     ]
    },
    {
     "name": "stderr",
     "output_type": "stream",
     "text": [
      "/home/wm18vw/Documents/EnvironnementsDevPython/miniconda3/envs/ML-env/lib/python3.9/site-packages/sklearn/svm/_base.py:1237: ConvergenceWarning: Liblinear failed to converge, increase the number of iterations.\n",
      "  warnings.warn(\n",
      "/home/wm18vw/Documents/EnvironnementsDevPython/miniconda3/envs/ML-env/lib/python3.9/site-packages/sklearn/svm/_classes.py:31: FutureWarning: The default value of `dual` will change from `True` to `'auto'` in 1.5. Set the value of `dual` explicitly to suppress the warning.\n",
      "  warnings.warn(\n"
     ]
    },
    {
     "name": "stdout",
     "output_type": "stream",
     "text": [
      "[CV] END ..........classifier=LinearSVC(), classifier__C=0.1; total time=   7.1s\n"
     ]
    },
    {
     "name": "stderr",
     "output_type": "stream",
     "text": [
      "/home/wm18vw/Documents/EnvironnementsDevPython/miniconda3/envs/ML-env/lib/python3.9/site-packages/sklearn/svm/_base.py:1237: ConvergenceWarning: Liblinear failed to converge, increase the number of iterations.\n",
      "  warnings.warn(\n",
      "/home/wm18vw/Documents/EnvironnementsDevPython/miniconda3/envs/ML-env/lib/python3.9/site-packages/sklearn/svm/_classes.py:31: FutureWarning: The default value of `dual` will change from `True` to `'auto'` in 1.5. Set the value of `dual` explicitly to suppress the warning.\n",
      "  warnings.warn(\n"
     ]
    },
    {
     "name": "stdout",
     "output_type": "stream",
     "text": [
      "[CV] END ..........classifier=LinearSVC(), classifier__C=0.1; total time=   7.1s\n"
     ]
    },
    {
     "name": "stderr",
     "output_type": "stream",
     "text": [
      "/home/wm18vw/Documents/EnvironnementsDevPython/miniconda3/envs/ML-env/lib/python3.9/site-packages/sklearn/svm/_base.py:1237: ConvergenceWarning: Liblinear failed to converge, increase the number of iterations.\n",
      "  warnings.warn(\n",
      "/home/wm18vw/Documents/EnvironnementsDevPython/miniconda3/envs/ML-env/lib/python3.9/site-packages/sklearn/svm/_classes.py:31: FutureWarning: The default value of `dual` will change from `True` to `'auto'` in 1.5. Set the value of `dual` explicitly to suppress the warning.\n",
      "  warnings.warn(\n"
     ]
    },
    {
     "name": "stdout",
     "output_type": "stream",
     "text": [
      "[CV] END ..........classifier=LinearSVC(), classifier__C=0.1; total time=   7.0s\n"
     ]
    },
    {
     "name": "stderr",
     "output_type": "stream",
     "text": [
      "/home/wm18vw/Documents/EnvironnementsDevPython/miniconda3/envs/ML-env/lib/python3.9/site-packages/sklearn/svm/_base.py:1237: ConvergenceWarning: Liblinear failed to converge, increase the number of iterations.\n",
      "  warnings.warn(\n",
      "/home/wm18vw/Documents/EnvironnementsDevPython/miniconda3/envs/ML-env/lib/python3.9/site-packages/sklearn/svm/_classes.py:31: FutureWarning: The default value of `dual` will change from `True` to `'auto'` in 1.5. Set the value of `dual` explicitly to suppress the warning.\n",
      "  warnings.warn(\n"
     ]
    },
    {
     "name": "stdout",
     "output_type": "stream",
     "text": [
      "[CV] END ............classifier=LinearSVC(), classifier__C=1; total time=   7.6s\n"
     ]
    },
    {
     "name": "stderr",
     "output_type": "stream",
     "text": [
      "/home/wm18vw/Documents/EnvironnementsDevPython/miniconda3/envs/ML-env/lib/python3.9/site-packages/sklearn/svm/_base.py:1237: ConvergenceWarning: Liblinear failed to converge, increase the number of iterations.\n",
      "  warnings.warn(\n",
      "/home/wm18vw/Documents/EnvironnementsDevPython/miniconda3/envs/ML-env/lib/python3.9/site-packages/sklearn/svm/_classes.py:31: FutureWarning: The default value of `dual` will change from `True` to `'auto'` in 1.5. Set the value of `dual` explicitly to suppress the warning.\n",
      "  warnings.warn(\n"
     ]
    },
    {
     "name": "stdout",
     "output_type": "stream",
     "text": [
      "[CV] END ............classifier=LinearSVC(), classifier__C=1; total time=   7.6s\n"
     ]
    },
    {
     "name": "stderr",
     "output_type": "stream",
     "text": [
      "/home/wm18vw/Documents/EnvironnementsDevPython/miniconda3/envs/ML-env/lib/python3.9/site-packages/sklearn/svm/_base.py:1237: ConvergenceWarning: Liblinear failed to converge, increase the number of iterations.\n",
      "  warnings.warn(\n",
      "/home/wm18vw/Documents/EnvironnementsDevPython/miniconda3/envs/ML-env/lib/python3.9/site-packages/sklearn/svm/_classes.py:31: FutureWarning: The default value of `dual` will change from `True` to `'auto'` in 1.5. Set the value of `dual` explicitly to suppress the warning.\n",
      "  warnings.warn(\n"
     ]
    },
    {
     "name": "stdout",
     "output_type": "stream",
     "text": [
      "[CV] END ............classifier=LinearSVC(), classifier__C=1; total time=   7.6s\n"
     ]
    },
    {
     "name": "stderr",
     "output_type": "stream",
     "text": [
      "/home/wm18vw/Documents/EnvironnementsDevPython/miniconda3/envs/ML-env/lib/python3.9/site-packages/sklearn/svm/_base.py:1237: ConvergenceWarning: Liblinear failed to converge, increase the number of iterations.\n",
      "  warnings.warn(\n",
      "/home/wm18vw/Documents/EnvironnementsDevPython/miniconda3/envs/ML-env/lib/python3.9/site-packages/sklearn/svm/_classes.py:31: FutureWarning: The default value of `dual` will change from `True` to `'auto'` in 1.5. Set the value of `dual` explicitly to suppress the warning.\n",
      "  warnings.warn(\n"
     ]
    },
    {
     "name": "stdout",
     "output_type": "stream",
     "text": [
      "[CV] END ............classifier=LinearSVC(), classifier__C=1; total time=   7.7s\n"
     ]
    },
    {
     "name": "stderr",
     "output_type": "stream",
     "text": [
      "/home/wm18vw/Documents/EnvironnementsDevPython/miniconda3/envs/ML-env/lib/python3.9/site-packages/sklearn/svm/_base.py:1237: ConvergenceWarning: Liblinear failed to converge, increase the number of iterations.\n",
      "  warnings.warn(\n",
      "/home/wm18vw/Documents/EnvironnementsDevPython/miniconda3/envs/ML-env/lib/python3.9/site-packages/sklearn/svm/_classes.py:31: FutureWarning: The default value of `dual` will change from `True` to `'auto'` in 1.5. Set the value of `dual` explicitly to suppress the warning.\n",
      "  warnings.warn(\n"
     ]
    },
    {
     "name": "stdout",
     "output_type": "stream",
     "text": [
      "[CV] END ............classifier=LinearSVC(), classifier__C=1; total time=   7.7s\n"
     ]
    },
    {
     "name": "stderr",
     "output_type": "stream",
     "text": [
      "/home/wm18vw/Documents/EnvironnementsDevPython/miniconda3/envs/ML-env/lib/python3.9/site-packages/sklearn/svm/_base.py:1237: ConvergenceWarning: Liblinear failed to converge, increase the number of iterations.\n",
      "  warnings.warn(\n",
      "/home/wm18vw/Documents/EnvironnementsDevPython/miniconda3/envs/ML-env/lib/python3.9/site-packages/sklearn/svm/_classes.py:31: FutureWarning: The default value of `dual` will change from `True` to `'auto'` in 1.5. Set the value of `dual` explicitly to suppress the warning.\n",
      "  warnings.warn(\n"
     ]
    },
    {
     "name": "stdout",
     "output_type": "stream",
     "text": [
      "[CV] END ...........classifier=LinearSVC(), classifier__C=10; total time=   8.8s\n"
     ]
    },
    {
     "name": "stderr",
     "output_type": "stream",
     "text": [
      "/home/wm18vw/Documents/EnvironnementsDevPython/miniconda3/envs/ML-env/lib/python3.9/site-packages/sklearn/svm/_base.py:1237: ConvergenceWarning: Liblinear failed to converge, increase the number of iterations.\n",
      "  warnings.warn(\n",
      "/home/wm18vw/Documents/EnvironnementsDevPython/miniconda3/envs/ML-env/lib/python3.9/site-packages/sklearn/svm/_classes.py:31: FutureWarning: The default value of `dual` will change from `True` to `'auto'` in 1.5. Set the value of `dual` explicitly to suppress the warning.\n",
      "  warnings.warn(\n"
     ]
    },
    {
     "name": "stdout",
     "output_type": "stream",
     "text": [
      "[CV] END ...........classifier=LinearSVC(), classifier__C=10; total time=   8.7s\n"
     ]
    },
    {
     "name": "stderr",
     "output_type": "stream",
     "text": [
      "/home/wm18vw/Documents/EnvironnementsDevPython/miniconda3/envs/ML-env/lib/python3.9/site-packages/sklearn/svm/_base.py:1237: ConvergenceWarning: Liblinear failed to converge, increase the number of iterations.\n",
      "  warnings.warn(\n",
      "/home/wm18vw/Documents/EnvironnementsDevPython/miniconda3/envs/ML-env/lib/python3.9/site-packages/sklearn/svm/_classes.py:31: FutureWarning: The default value of `dual` will change from `True` to `'auto'` in 1.5. Set the value of `dual` explicitly to suppress the warning.\n",
      "  warnings.warn(\n"
     ]
    },
    {
     "name": "stdout",
     "output_type": "stream",
     "text": [
      "[CV] END ...........classifier=LinearSVC(), classifier__C=10; total time=   8.7s\n"
     ]
    },
    {
     "name": "stderr",
     "output_type": "stream",
     "text": [
      "/home/wm18vw/Documents/EnvironnementsDevPython/miniconda3/envs/ML-env/lib/python3.9/site-packages/sklearn/svm/_base.py:1237: ConvergenceWarning: Liblinear failed to converge, increase the number of iterations.\n",
      "  warnings.warn(\n",
      "/home/wm18vw/Documents/EnvironnementsDevPython/miniconda3/envs/ML-env/lib/python3.9/site-packages/sklearn/svm/_classes.py:31: FutureWarning: The default value of `dual` will change from `True` to `'auto'` in 1.5. Set the value of `dual` explicitly to suppress the warning.\n",
      "  warnings.warn(\n"
     ]
    },
    {
     "name": "stdout",
     "output_type": "stream",
     "text": [
      "[CV] END ...........classifier=LinearSVC(), classifier__C=10; total time=   8.7s\n"
     ]
    },
    {
     "name": "stderr",
     "output_type": "stream",
     "text": [
      "/home/wm18vw/Documents/EnvironnementsDevPython/miniconda3/envs/ML-env/lib/python3.9/site-packages/sklearn/svm/_base.py:1237: ConvergenceWarning: Liblinear failed to converge, increase the number of iterations.\n",
      "  warnings.warn(\n",
      "/home/wm18vw/Documents/EnvironnementsDevPython/miniconda3/envs/ML-env/lib/python3.9/site-packages/sklearn/svm/_classes.py:31: FutureWarning: The default value of `dual` will change from `True` to `'auto'` in 1.5. Set the value of `dual` explicitly to suppress the warning.\n",
      "  warnings.warn(\n"
     ]
    },
    {
     "name": "stdout",
     "output_type": "stream",
     "text": [
      "[CV] END ...........classifier=LinearSVC(), classifier__C=10; total time=   8.6s\n"
     ]
    },
    {
     "name": "stderr",
     "output_type": "stream",
     "text": [
      "/home/wm18vw/Documents/EnvironnementsDevPython/miniconda3/envs/ML-env/lib/python3.9/site-packages/sklearn/svm/_base.py:1237: ConvergenceWarning: Liblinear failed to converge, increase the number of iterations.\n",
      "  warnings.warn(\n",
      "/home/wm18vw/Documents/EnvironnementsDevPython/miniconda3/envs/ML-env/lib/python3.9/site-packages/sklearn/svm/_classes.py:31: FutureWarning: The default value of `dual` will change from `True` to `'auto'` in 1.5. Set the value of `dual` explicitly to suppress the warning.\n",
      "  warnings.warn(\n"
     ]
    },
    {
     "name": "stdout",
     "output_type": "stream",
     "text": [
      "[CV] END ..........classifier=LinearSVC(), classifier__C=100; total time=   9.2s\n"
     ]
    },
    {
     "name": "stderr",
     "output_type": "stream",
     "text": [
      "/home/wm18vw/Documents/EnvironnementsDevPython/miniconda3/envs/ML-env/lib/python3.9/site-packages/sklearn/svm/_base.py:1237: ConvergenceWarning: Liblinear failed to converge, increase the number of iterations.\n",
      "  warnings.warn(\n",
      "/home/wm18vw/Documents/EnvironnementsDevPython/miniconda3/envs/ML-env/lib/python3.9/site-packages/sklearn/svm/_classes.py:31: FutureWarning: The default value of `dual` will change from `True` to `'auto'` in 1.5. Set the value of `dual` explicitly to suppress the warning.\n",
      "  warnings.warn(\n"
     ]
    },
    {
     "name": "stdout",
     "output_type": "stream",
     "text": [
      "[CV] END ..........classifier=LinearSVC(), classifier__C=100; total time=   9.2s\n"
     ]
    },
    {
     "name": "stderr",
     "output_type": "stream",
     "text": [
      "/home/wm18vw/Documents/EnvironnementsDevPython/miniconda3/envs/ML-env/lib/python3.9/site-packages/sklearn/svm/_base.py:1237: ConvergenceWarning: Liblinear failed to converge, increase the number of iterations.\n",
      "  warnings.warn(\n",
      "/home/wm18vw/Documents/EnvironnementsDevPython/miniconda3/envs/ML-env/lib/python3.9/site-packages/sklearn/svm/_classes.py:31: FutureWarning: The default value of `dual` will change from `True` to `'auto'` in 1.5. Set the value of `dual` explicitly to suppress the warning.\n",
      "  warnings.warn(\n"
     ]
    },
    {
     "name": "stdout",
     "output_type": "stream",
     "text": [
      "[CV] END ..........classifier=LinearSVC(), classifier__C=100; total time=   9.3s\n"
     ]
    },
    {
     "name": "stderr",
     "output_type": "stream",
     "text": [
      "/home/wm18vw/Documents/EnvironnementsDevPython/miniconda3/envs/ML-env/lib/python3.9/site-packages/sklearn/svm/_base.py:1237: ConvergenceWarning: Liblinear failed to converge, increase the number of iterations.\n",
      "  warnings.warn(\n",
      "/home/wm18vw/Documents/EnvironnementsDevPython/miniconda3/envs/ML-env/lib/python3.9/site-packages/sklearn/svm/_classes.py:31: FutureWarning: The default value of `dual` will change from `True` to `'auto'` in 1.5. Set the value of `dual` explicitly to suppress the warning.\n",
      "  warnings.warn(\n"
     ]
    },
    {
     "name": "stdout",
     "output_type": "stream",
     "text": [
      "[CV] END ..........classifier=LinearSVC(), classifier__C=100; total time=   9.2s\n"
     ]
    },
    {
     "name": "stderr",
     "output_type": "stream",
     "text": [
      "/home/wm18vw/Documents/EnvironnementsDevPython/miniconda3/envs/ML-env/lib/python3.9/site-packages/sklearn/svm/_base.py:1237: ConvergenceWarning: Liblinear failed to converge, increase the number of iterations.\n",
      "  warnings.warn(\n"
     ]
    },
    {
     "name": "stdout",
     "output_type": "stream",
     "text": [
      "[CV] END ..........classifier=LinearSVC(), classifier__C=100; total time=   9.3s\n",
      "Meilleurs paramètres trouvés :\n",
      "{'classifier': SVC(), 'classifier__C': 100, 'classifier__kernel': 'rbf'}\n",
      "Meilleur score ROC AUC :\n",
      "0.715438932092475\n"
     ]
    }
   ],
   "source": [
    "# Recherche sur la grille des hyperparamètres avec validation croisée\n",
    "grid_search = GridSearchCV(pipeline, param_grid, cv=5, verbose=2, scoring=scoring, refit='ROC AUC')\n",
    "grid_search.fit(X_train, y_train)\n",
    "\n",
    "print(\"Meilleurs paramètres trouvés :\")\n",
    "print(grid_search.best_params_)\n",
    "print(\"Meilleur score ROC AUC :\")\n",
    "print(grid_search.best_score_)"
   ],
   "id": "7ec2f2c71d4781b"
  },
  {
   "cell_type": "code",
   "source": [
    "grid_search.best_score_"
   ],
   "metadata": {
    "id": "jfwC3vDgZJNX",
    "ExecuteTime": {
     "end_time": "2024-02-10T14:14:10.778879061Z",
     "start_time": "2024-02-10T14:14:10.724189096Z"
    }
   },
   "id": "jfwC3vDgZJNX",
   "execution_count": 26,
   "outputs": [
    {
     "data": {
      "text/plain": "0.715438932092475"
     },
     "execution_count": 26,
     "metadata": {},
     "output_type": "execute_result"
    }
   ]
  },
  {
   "cell_type": "code",
   "source": [
    "y_pred = grid_search.predict(X_test)"
   ],
   "metadata": {
    "id": "L9f0JT6RZXiI",
    "ExecuteTime": {
     "end_time": "2024-02-10T14:14:48.435818143Z",
     "start_time": "2024-02-10T14:14:10.766759136Z"
    }
   },
   "id": "L9f0JT6RZXiI",
   "execution_count": 27,
   "outputs": []
  },
  {
   "cell_type": "code",
   "source": [
    "from sklearn.metrics import classification_report"
   ],
   "metadata": {
    "id": "7kvso9TmafYp",
    "ExecuteTime": {
     "end_time": "2024-02-10T14:14:48.498704648Z",
     "start_time": "2024-02-10T14:14:48.478797282Z"
    }
   },
   "id": "7kvso9TmafYp",
   "execution_count": 28,
   "outputs": []
  },
  {
   "cell_type": "code",
   "source": [
    "print(\"Rapport de classification :\")\n",
    "print(classification_report(y_test, y_pred))"
   ],
   "metadata": {
    "id": "-gyqdxiBZnmb",
    "ExecuteTime": {
     "end_time": "2024-02-10T14:14:48.528464620Z",
     "start_time": "2024-02-10T14:14:48.479207223Z"
    }
   },
   "id": "-gyqdxiBZnmb",
   "execution_count": 29,
   "outputs": [
    {
     "name": "stdout",
     "output_type": "stream",
     "text": [
      "Rapport de classification :\n",
      "              precision    recall  f1-score   support\n",
      "\n",
      "       False       0.87      0.95      0.91     18828\n",
      "        True       0.73      0.49      0.58      5364\n",
      "\n",
      "    accuracy                           0.85     24192\n",
      "   macro avg       0.80      0.72      0.74     24192\n",
      "weighted avg       0.84      0.85      0.83     24192\n"
     ]
    }
   ]
  },
  {
   "cell_type": "code",
   "source": [
    "ratio = weatherAUS['RainTomorrow'].value_counts(normalize=True)\n",
    "print(ratio)"
   ],
   "metadata": {
    "id": "mlywGoqlacAB",
    "ExecuteTime": {
     "end_time": "2024-02-10T14:14:48.529879156Z",
     "start_time": "2024-02-10T14:14:48.479515846Z"
    }
   },
   "id": "mlywGoqlacAB",
   "execution_count": 30,
   "outputs": [
    {
     "name": "stdout",
     "output_type": "stream",
     "text": [
      "RainTomorrow\n",
      "False    0.781068\n",
      "True     0.218932\n",
      "Name: proportion, dtype: float64\n"
     ]
    }
   ]
  },
  {
   "cell_type": "markdown",
   "source": [
    "# Rééquilibrage du dataset déséquilibré"
   ],
   "metadata": {
    "id": "HucUI-bEgNl9"
   },
   "id": "HucUI-bEgNl9"
  },
  {
   "cell_type": "code",
   "source": [
    "# Divisez les données en deux ensembles distincts pour chaque classe\n",
    "data_false = weatherAUS[weatherAUS['RainTomorrow'] == False]\n",
    "data_true = weatherAUS[weatherAUS['RainTomorrow'] == True]\n",
    "\n",
    "# Sous-échantillonnez la classe majoritaire (False)\n",
    "data_false_downsampled = data_false.sample(n=len(data_true), random_state=42)\n",
    "\n",
    "# Concaténez les ensembles de données sous-échantillonnés\n",
    "weatherAUS_balanced = pd.concat([data_false_downsampled, data_true])\n",
    "\n",
    "# Mélangez les données pour garantir un ordre aléatoire\n",
    "weatherAUS_balanced = weatherAUS_balanced.sample(frac=1, random_state=42)\n"
   ],
   "metadata": {
    "id": "KNGk7bimbfZf",
    "ExecuteTime": {
     "end_time": "2024-02-10T14:14:48.531073234Z",
     "start_time": "2024-02-10T14:14:48.479807738Z"
    }
   },
   "id": "KNGk7bimbfZf",
   "execution_count": 31,
   "outputs": []
  },
  {
   "cell_type": "code",
   "source": [
    "len(weatherAUS_balanced)"
   ],
   "metadata": {
    "id": "qpzINKaygzd1",
    "ExecuteTime": {
     "end_time": "2024-02-10T14:14:48.532240120Z",
     "start_time": "2024-02-10T14:14:48.493729820Z"
    }
   },
   "id": "qpzINKaygzd1",
   "execution_count": 32,
   "outputs": [
    {
     "data": {
      "text/plain": "52964"
     },
     "execution_count": 32,
     "metadata": {},
     "output_type": "execute_result"
    }
   ]
  },
  {
   "cell_type": "code",
   "source": [
    "X = weatherAUS_balanced.drop(['RainTomorrow'], axis=1)\n",
    "y = weatherAUS_balanced['RainTomorrow']"
   ],
   "metadata": {
    "id": "WrTJ0MKYgXLB",
    "ExecuteTime": {
     "end_time": "2024-02-10T14:14:48.572247180Z",
     "start_time": "2024-02-10T14:14:48.499346049Z"
    }
   },
   "id": "WrTJ0MKYgXLB",
   "execution_count": 33,
   "outputs": []
  },
  {
   "cell_type": "code",
   "source": [
    "from sklearn.model_selection import train_test_split\n",
    "X_train, X_test, y_train, y_test = train_test_split(X, y, test_size=0.2, random_state=42)"
   ],
   "metadata": {
    "id": "jjBPfP8KgfU7",
    "ExecuteTime": {
     "end_time": "2024-02-10T14:14:48.573586327Z",
     "start_time": "2024-02-10T14:14:48.504402519Z"
    }
   },
   "id": "jjBPfP8KgfU7",
   "execution_count": 34,
   "outputs": []
  },
  {
   "cell_type": "code",
   "source": [
    "categorical_features = ['RainToday', 'Month', 'Year']\n",
    "numerical_features = ['MinTemp', 'MaxTemp', 'Rainfall', 'WindGustSpeed', 'Humidity', 'WindSpeed', 'Pressure', 'Temp']"
   ],
   "metadata": {
    "id": "fckP7w07giHi",
    "ExecuteTime": {
     "end_time": "2024-02-10T14:14:48.574994061Z",
     "start_time": "2024-02-10T14:14:48.513923007Z"
    }
   },
   "id": "fckP7w07giHi",
   "execution_count": 35,
   "outputs": []
  },
  {
   "cell_type": "code",
   "source": [
    "# Création d'un pipeline pour traiter les caractéristiques\n",
    "numerical_transformer = Pipeline(steps=[\n",
    "    ('imputer', SimpleImputer(strategy='mean')),\n",
    "    ('scaler', StandardScaler())\n",
    "])\n",
    "\n",
    "categorical_transformer = Pipeline(steps=[\n",
    "    ('imputer', SimpleImputer(strategy='most_frequent')),\n",
    "    ('onehot', OneHotEncoder(handle_unknown='ignore'))\n",
    "])\n",
    "\n",
    "preprocessor = ColumnTransformer(\n",
    "    transformers=[\n",
    "        ('num', numerical_transformer, numerical_features),\n",
    "        ('cat', categorical_transformer, categorical_features)\n",
    "    ])"
   ],
   "metadata": {
    "id": "-46pFTrxgk-Y",
    "ExecuteTime": {
     "end_time": "2024-02-10T14:14:48.585834671Z",
     "start_time": "2024-02-10T14:14:48.522138293Z"
    }
   },
   "id": "-46pFTrxgk-Y",
   "execution_count": 36,
   "outputs": []
  },
  {
   "cell_type": "code",
   "source": [
    "# Création du pipeline avec un classificateur SVM\n",
    "pipeline = Pipeline(steps=[('preprocessor', preprocessor),\n",
    "                           ('classifier', SVC())])"
   ],
   "metadata": {
    "id": "nH9aRwl6gnXt",
    "ExecuteTime": {
     "end_time": "2024-02-10T14:14:48.587097245Z",
     "start_time": "2024-02-10T14:14:48.525253487Z"
    }
   },
   "id": "nH9aRwl6gnXt",
   "execution_count": 37,
   "outputs": []
  },
  {
   "cell_type": "code",
   "source": [
    "# Définition de la grille de recherche des hyperparamètres\n",
    "param_grid = [\n",
    "    {\n",
    "        'classifier': [SVC()],\n",
    "        'classifier__C': [0.1, 1, 10, 100],\n",
    "        'classifier__kernel': ['linear', 'rbf', 'poly'],\n",
    "    },\n",
    "    {\n",
    "        'classifier': [LinearSVC()],\n",
    "        'classifier__C': [0.1, 1, 10, 100],\n",
    "    }\n",
    "]\n"
   ],
   "metadata": {
    "id": "HC_oMDQdgqDH",
    "ExecuteTime": {
     "end_time": "2024-02-10T14:14:48.597520620Z",
     "start_time": "2024-02-10T14:14:48.529279413Z"
    }
   },
   "id": "HC_oMDQdgqDH",
   "execution_count": 38,
   "outputs": []
  },
  {
   "cell_type": "code",
   "source": [
    "from sklearn.metrics import make_scorer, roc_auc_score\n",
    "# Définition de la métrique d'évaluation comme ROC AUC\n",
    "scoring = {'ROC AUC': make_scorer(roc_auc_score)}"
   ],
   "metadata": {
    "id": "Q-C6ZGa8gsud",
    "ExecuteTime": {
     "end_time": "2024-02-10T14:14:48.600672984Z",
     "start_time": "2024-02-10T14:14:48.532593767Z"
    }
   },
   "id": "Q-C6ZGa8gsud",
   "execution_count": 39,
   "outputs": []
  },
  {
   "cell_type": "code",
   "source": [
    "# Recherche sur la grille des hyperparamètres avec validation croisée\n",
    "grid_search = GridSearchCV(pipeline, param_grid, cv=5, verbose=2, scoring=scoring, refit='ROC AUC')\n",
    "grid_search.fit(X_train, y_train)\n",
    "\n",
    "print(\"Meilleurs paramètres trouvés :\")\n",
    "print(grid_search.best_params_)\n",
    "print(\"Meilleur score ROC AUC :\")\n",
    "print(grid_search.best_score_)"
   ],
   "metadata": {
    "id": "EX3arZfOgvKO",
    "ExecuteTime": {
     "end_time": "2024-02-10T18:36:38.558281286Z",
     "start_time": "2024-02-10T14:14:48.537448532Z"
    }
   },
   "id": "EX3arZfOgvKO",
   "execution_count": 40,
   "outputs": [
    {
     "name": "stdout",
     "output_type": "stream",
     "text": [
      "Fitting 5 folds for each of 16 candidates, totalling 80 fits\n",
      "[CV] END classifier=SVC(), classifier__C=0.1, classifier__kernel=linear; total time=  39.9s\n",
      "[CV] END classifier=SVC(), classifier__C=0.1, classifier__kernel=linear; total time=  40.9s\n",
      "[CV] END classifier=SVC(), classifier__C=0.1, classifier__kernel=linear; total time=  38.0s\n",
      "[CV] END classifier=SVC(), classifier__C=0.1, classifier__kernel=linear; total time=  38.2s\n",
      "[CV] END classifier=SVC(), classifier__C=0.1, classifier__kernel=linear; total time=  38.2s\n",
      "[CV] END classifier=SVC(), classifier__C=0.1, classifier__kernel=rbf; total time=  49.1s\n",
      "[CV] END classifier=SVC(), classifier__C=0.1, classifier__kernel=rbf; total time=  49.1s\n",
      "[CV] END classifier=SVC(), classifier__C=0.1, classifier__kernel=rbf; total time=  49.1s\n",
      "[CV] END classifier=SVC(), classifier__C=0.1, classifier__kernel=rbf; total time=  49.2s\n",
      "[CV] END classifier=SVC(), classifier__C=0.1, classifier__kernel=rbf; total time=  49.4s\n",
      "[CV] END classifier=SVC(), classifier__C=0.1, classifier__kernel=poly; total time=  42.5s\n",
      "[CV] END classifier=SVC(), classifier__C=0.1, classifier__kernel=poly; total time=  43.0s\n",
      "[CV] END classifier=SVC(), classifier__C=0.1, classifier__kernel=poly; total time=  43.1s\n",
      "[CV] END classifier=SVC(), classifier__C=0.1, classifier__kernel=poly; total time=  43.3s\n",
      "[CV] END classifier=SVC(), classifier__C=0.1, classifier__kernel=poly; total time=  42.7s\n",
      "[CV] END classifier=SVC(), classifier__C=1, classifier__kernel=linear; total time=  55.9s\n",
      "[CV] END classifier=SVC(), classifier__C=1, classifier__kernel=linear; total time=  55.7s\n",
      "[CV] END classifier=SVC(), classifier__C=1, classifier__kernel=linear; total time=  57.8s\n",
      "[CV] END classifier=SVC(), classifier__C=1, classifier__kernel=linear; total time=  56.3s\n",
      "[CV] END classifier=SVC(), classifier__C=1, classifier__kernel=linear; total time=  55.3s\n",
      "[CV] END classifier=SVC(), classifier__C=1, classifier__kernel=rbf; total time=  51.8s\n",
      "[CV] END classifier=SVC(), classifier__C=1, classifier__kernel=rbf; total time=  48.2s\n",
      "[CV] END classifier=SVC(), classifier__C=1, classifier__kernel=rbf; total time=  47.9s\n",
      "[CV] END classifier=SVC(), classifier__C=1, classifier__kernel=rbf; total time=  48.3s\n",
      "[CV] END classifier=SVC(), classifier__C=1, classifier__kernel=rbf; total time=  49.4s\n",
      "[CV] END classifier=SVC(), classifier__C=1, classifier__kernel=poly; total time=  44.2s\n",
      "[CV] END classifier=SVC(), classifier__C=1, classifier__kernel=poly; total time=  43.5s\n",
      "[CV] END classifier=SVC(), classifier__C=1, classifier__kernel=poly; total time=  45.0s\n",
      "[CV] END classifier=SVC(), classifier__C=1, classifier__kernel=poly; total time=  45.6s\n",
      "[CV] END classifier=SVC(), classifier__C=1, classifier__kernel=poly; total time=  44.7s\n",
      "[CV] END classifier=SVC(), classifier__C=10, classifier__kernel=linear; total time= 3.3min\n",
      "[CV] END classifier=SVC(), classifier__C=10, classifier__kernel=linear; total time= 3.3min\n",
      "[CV] END classifier=SVC(), classifier__C=10, classifier__kernel=linear; total time= 3.3min\n",
      "[CV] END classifier=SVC(), classifier__C=10, classifier__kernel=linear; total time= 3.2min\n",
      "[CV] END classifier=SVC(), classifier__C=10, classifier__kernel=linear; total time= 3.2min\n",
      "[CV] END classifier=SVC(), classifier__C=10, classifier__kernel=rbf; total time= 1.4min\n",
      "[CV] END classifier=SVC(), classifier__C=10, classifier__kernel=rbf; total time= 1.6min\n",
      "[CV] END classifier=SVC(), classifier__C=10, classifier__kernel=rbf; total time= 1.6min\n",
      "[CV] END classifier=SVC(), classifier__C=10, classifier__kernel=rbf; total time= 1.5min\n",
      "[CV] END classifier=SVC(), classifier__C=10, classifier__kernel=rbf; total time= 1.5min\n",
      "[CV] END classifier=SVC(), classifier__C=10, classifier__kernel=poly; total time= 1.6min\n",
      "[CV] END classifier=SVC(), classifier__C=10, classifier__kernel=poly; total time= 1.7min\n",
      "[CV] END classifier=SVC(), classifier__C=10, classifier__kernel=poly; total time= 1.6min\n",
      "[CV] END classifier=SVC(), classifier__C=10, classifier__kernel=poly; total time= 1.6min\n",
      "[CV] END classifier=SVC(), classifier__C=10, classifier__kernel=poly; total time= 1.6min\n",
      "[CV] END classifier=SVC(), classifier__C=100, classifier__kernel=linear; total time=22.2min\n",
      "[CV] END classifier=SVC(), classifier__C=100, classifier__kernel=linear; total time=23.0min\n",
      "[CV] END classifier=SVC(), classifier__C=100, classifier__kernel=linear; total time=22.4min\n",
      "[CV] END classifier=SVC(), classifier__C=100, classifier__kernel=linear; total time=22.4min\n",
      "[CV] END classifier=SVC(), classifier__C=100, classifier__kernel=linear; total time=22.7min\n",
      "[CV] END classifier=SVC(), classifier__C=100, classifier__kernel=rbf; total time= 6.4min\n",
      "[CV] END classifier=SVC(), classifier__C=100, classifier__kernel=rbf; total time= 6.5min\n",
      "[CV] END classifier=SVC(), classifier__C=100, classifier__kernel=rbf; total time= 6.3min\n",
      "[CV] END classifier=SVC(), classifier__C=100, classifier__kernel=rbf; total time= 6.4min\n",
      "[CV] END classifier=SVC(), classifier__C=100, classifier__kernel=rbf; total time= 6.6min\n",
      "[CV] END classifier=SVC(), classifier__C=100, classifier__kernel=poly; total time=11.6min\n",
      "[CV] END classifier=SVC(), classifier__C=100, classifier__kernel=poly; total time=13.2min\n",
      "[CV] END classifier=SVC(), classifier__C=100, classifier__kernel=poly; total time=10.7min\n",
      "[CV] END classifier=SVC(), classifier__C=100, classifier__kernel=poly; total time=11.0min\n",
      "[CV] END classifier=SVC(), classifier__C=100, classifier__kernel=poly; total time=11.9min\n"
     ]
    },
    {
     "name": "stderr",
     "output_type": "stream",
     "text": [
      "/home/wm18vw/Documents/EnvironnementsDevPython/miniconda3/envs/ML-env/lib/python3.9/site-packages/sklearn/svm/_classes.py:31: FutureWarning: The default value of `dual` will change from `True` to `'auto'` in 1.5. Set the value of `dual` explicitly to suppress the warning.\n",
      "  warnings.warn(\n"
     ]
    },
    {
     "name": "stdout",
     "output_type": "stream",
     "text": [
      "[CV] END ..........classifier=LinearSVC(), classifier__C=0.1; total time=   0.9s\n"
     ]
    },
    {
     "name": "stderr",
     "output_type": "stream",
     "text": [
      "/home/wm18vw/Documents/EnvironnementsDevPython/miniconda3/envs/ML-env/lib/python3.9/site-packages/sklearn/svm/_classes.py:31: FutureWarning: The default value of `dual` will change from `True` to `'auto'` in 1.5. Set the value of `dual` explicitly to suppress the warning.\n",
      "  warnings.warn(\n"
     ]
    },
    {
     "name": "stdout",
     "output_type": "stream",
     "text": [
      "[CV] END ..........classifier=LinearSVC(), classifier__C=0.1; total time=   0.8s\n"
     ]
    },
    {
     "name": "stderr",
     "output_type": "stream",
     "text": [
      "/home/wm18vw/Documents/EnvironnementsDevPython/miniconda3/envs/ML-env/lib/python3.9/site-packages/sklearn/svm/_classes.py:31: FutureWarning: The default value of `dual` will change from `True` to `'auto'` in 1.5. Set the value of `dual` explicitly to suppress the warning.\n",
      "  warnings.warn(\n"
     ]
    },
    {
     "name": "stdout",
     "output_type": "stream",
     "text": [
      "[CV] END ..........classifier=LinearSVC(), classifier__C=0.1; total time=   0.8s\n"
     ]
    },
    {
     "name": "stderr",
     "output_type": "stream",
     "text": [
      "/home/wm18vw/Documents/EnvironnementsDevPython/miniconda3/envs/ML-env/lib/python3.9/site-packages/sklearn/svm/_classes.py:31: FutureWarning: The default value of `dual` will change from `True` to `'auto'` in 1.5. Set the value of `dual` explicitly to suppress the warning.\n",
      "  warnings.warn(\n"
     ]
    },
    {
     "name": "stdout",
     "output_type": "stream",
     "text": [
      "[CV] END ..........classifier=LinearSVC(), classifier__C=0.1; total time=   0.7s\n"
     ]
    },
    {
     "name": "stderr",
     "output_type": "stream",
     "text": [
      "/home/wm18vw/Documents/EnvironnementsDevPython/miniconda3/envs/ML-env/lib/python3.9/site-packages/sklearn/svm/_classes.py:31: FutureWarning: The default value of `dual` will change from `True` to `'auto'` in 1.5. Set the value of `dual` explicitly to suppress the warning.\n",
      "  warnings.warn(\n"
     ]
    },
    {
     "name": "stdout",
     "output_type": "stream",
     "text": [
      "[CV] END ..........classifier=LinearSVC(), classifier__C=0.1; total time=   1.4s\n"
     ]
    },
    {
     "name": "stderr",
     "output_type": "stream",
     "text": [
      "/home/wm18vw/Documents/EnvironnementsDevPython/miniconda3/envs/ML-env/lib/python3.9/site-packages/sklearn/svm/_classes.py:31: FutureWarning: The default value of `dual` will change from `True` to `'auto'` in 1.5. Set the value of `dual` explicitly to suppress the warning.\n",
      "  warnings.warn(\n",
      "/home/wm18vw/Documents/EnvironnementsDevPython/miniconda3/envs/ML-env/lib/python3.9/site-packages/sklearn/svm/_base.py:1237: ConvergenceWarning: Liblinear failed to converge, increase the number of iterations.\n",
      "  warnings.warn(\n",
      "/home/wm18vw/Documents/EnvironnementsDevPython/miniconda3/envs/ML-env/lib/python3.9/site-packages/sklearn/svm/_classes.py:31: FutureWarning: The default value of `dual` will change from `True` to `'auto'` in 1.5. Set the value of `dual` explicitly to suppress the warning.\n",
      "  warnings.warn(\n"
     ]
    },
    {
     "name": "stdout",
     "output_type": "stream",
     "text": [
      "[CV] END ............classifier=LinearSVC(), classifier__C=1; total time=   2.3s\n"
     ]
    },
    {
     "name": "stderr",
     "output_type": "stream",
     "text": [
      "/home/wm18vw/Documents/EnvironnementsDevPython/miniconda3/envs/ML-env/lib/python3.9/site-packages/sklearn/svm/_base.py:1237: ConvergenceWarning: Liblinear failed to converge, increase the number of iterations.\n",
      "  warnings.warn(\n",
      "/home/wm18vw/Documents/EnvironnementsDevPython/miniconda3/envs/ML-env/lib/python3.9/site-packages/sklearn/svm/_classes.py:31: FutureWarning: The default value of `dual` will change from `True` to `'auto'` in 1.5. Set the value of `dual` explicitly to suppress the warning.\n",
      "  warnings.warn(\n"
     ]
    },
    {
     "name": "stdout",
     "output_type": "stream",
     "text": [
      "[CV] END ............classifier=LinearSVC(), classifier__C=1; total time=   2.3s\n"
     ]
    },
    {
     "name": "stderr",
     "output_type": "stream",
     "text": [
      "/home/wm18vw/Documents/EnvironnementsDevPython/miniconda3/envs/ML-env/lib/python3.9/site-packages/sklearn/svm/_base.py:1237: ConvergenceWarning: Liblinear failed to converge, increase the number of iterations.\n",
      "  warnings.warn(\n",
      "/home/wm18vw/Documents/EnvironnementsDevPython/miniconda3/envs/ML-env/lib/python3.9/site-packages/sklearn/svm/_classes.py:31: FutureWarning: The default value of `dual` will change from `True` to `'auto'` in 1.5. Set the value of `dual` explicitly to suppress the warning.\n",
      "  warnings.warn(\n"
     ]
    },
    {
     "name": "stdout",
     "output_type": "stream",
     "text": [
      "[CV] END ............classifier=LinearSVC(), classifier__C=1; total time=   2.4s\n"
     ]
    },
    {
     "name": "stderr",
     "output_type": "stream",
     "text": [
      "/home/wm18vw/Documents/EnvironnementsDevPython/miniconda3/envs/ML-env/lib/python3.9/site-packages/sklearn/svm/_base.py:1237: ConvergenceWarning: Liblinear failed to converge, increase the number of iterations.\n",
      "  warnings.warn(\n",
      "/home/wm18vw/Documents/EnvironnementsDevPython/miniconda3/envs/ML-env/lib/python3.9/site-packages/sklearn/svm/_classes.py:31: FutureWarning: The default value of `dual` will change from `True` to `'auto'` in 1.5. Set the value of `dual` explicitly to suppress the warning.\n",
      "  warnings.warn(\n"
     ]
    },
    {
     "name": "stdout",
     "output_type": "stream",
     "text": [
      "[CV] END ............classifier=LinearSVC(), classifier__C=1; total time=   2.2s\n"
     ]
    },
    {
     "name": "stderr",
     "output_type": "stream",
     "text": [
      "/home/wm18vw/Documents/EnvironnementsDevPython/miniconda3/envs/ML-env/lib/python3.9/site-packages/sklearn/svm/_base.py:1237: ConvergenceWarning: Liblinear failed to converge, increase the number of iterations.\n",
      "  warnings.warn(\n",
      "/home/wm18vw/Documents/EnvironnementsDevPython/miniconda3/envs/ML-env/lib/python3.9/site-packages/sklearn/svm/_classes.py:31: FutureWarning: The default value of `dual` will change from `True` to `'auto'` in 1.5. Set the value of `dual` explicitly to suppress the warning.\n",
      "  warnings.warn(\n"
     ]
    },
    {
     "name": "stdout",
     "output_type": "stream",
     "text": [
      "[CV] END ............classifier=LinearSVC(), classifier__C=1; total time=   2.4s\n"
     ]
    },
    {
     "name": "stderr",
     "output_type": "stream",
     "text": [
      "/home/wm18vw/Documents/EnvironnementsDevPython/miniconda3/envs/ML-env/lib/python3.9/site-packages/sklearn/svm/_base.py:1237: ConvergenceWarning: Liblinear failed to converge, increase the number of iterations.\n",
      "  warnings.warn(\n",
      "/home/wm18vw/Documents/EnvironnementsDevPython/miniconda3/envs/ML-env/lib/python3.9/site-packages/sklearn/svm/_classes.py:31: FutureWarning: The default value of `dual` will change from `True` to `'auto'` in 1.5. Set the value of `dual` explicitly to suppress the warning.\n",
      "  warnings.warn(\n"
     ]
    },
    {
     "name": "stdout",
     "output_type": "stream",
     "text": [
      "[CV] END ...........classifier=LinearSVC(), classifier__C=10; total time=   2.3s\n"
     ]
    },
    {
     "name": "stderr",
     "output_type": "stream",
     "text": [
      "/home/wm18vw/Documents/EnvironnementsDevPython/miniconda3/envs/ML-env/lib/python3.9/site-packages/sklearn/svm/_base.py:1237: ConvergenceWarning: Liblinear failed to converge, increase the number of iterations.\n",
      "  warnings.warn(\n",
      "/home/wm18vw/Documents/EnvironnementsDevPython/miniconda3/envs/ML-env/lib/python3.9/site-packages/sklearn/svm/_classes.py:31: FutureWarning: The default value of `dual` will change from `True` to `'auto'` in 1.5. Set the value of `dual` explicitly to suppress the warning.\n",
      "  warnings.warn(\n"
     ]
    },
    {
     "name": "stdout",
     "output_type": "stream",
     "text": [
      "[CV] END ...........classifier=LinearSVC(), classifier__C=10; total time=   2.3s\n"
     ]
    },
    {
     "name": "stderr",
     "output_type": "stream",
     "text": [
      "/home/wm18vw/Documents/EnvironnementsDevPython/miniconda3/envs/ML-env/lib/python3.9/site-packages/sklearn/svm/_base.py:1237: ConvergenceWarning: Liblinear failed to converge, increase the number of iterations.\n",
      "  warnings.warn(\n",
      "/home/wm18vw/Documents/EnvironnementsDevPython/miniconda3/envs/ML-env/lib/python3.9/site-packages/sklearn/svm/_classes.py:31: FutureWarning: The default value of `dual` will change from `True` to `'auto'` in 1.5. Set the value of `dual` explicitly to suppress the warning.\n",
      "  warnings.warn(\n"
     ]
    },
    {
     "name": "stdout",
     "output_type": "stream",
     "text": [
      "[CV] END ...........classifier=LinearSVC(), classifier__C=10; total time=   2.4s\n"
     ]
    },
    {
     "name": "stderr",
     "output_type": "stream",
     "text": [
      "/home/wm18vw/Documents/EnvironnementsDevPython/miniconda3/envs/ML-env/lib/python3.9/site-packages/sklearn/svm/_base.py:1237: ConvergenceWarning: Liblinear failed to converge, increase the number of iterations.\n",
      "  warnings.warn(\n",
      "/home/wm18vw/Documents/EnvironnementsDevPython/miniconda3/envs/ML-env/lib/python3.9/site-packages/sklearn/svm/_classes.py:31: FutureWarning: The default value of `dual` will change from `True` to `'auto'` in 1.5. Set the value of `dual` explicitly to suppress the warning.\n",
      "  warnings.warn(\n"
     ]
    },
    {
     "name": "stdout",
     "output_type": "stream",
     "text": [
      "[CV] END ...........classifier=LinearSVC(), classifier__C=10; total time=   2.4s\n"
     ]
    },
    {
     "name": "stderr",
     "output_type": "stream",
     "text": [
      "/home/wm18vw/Documents/EnvironnementsDevPython/miniconda3/envs/ML-env/lib/python3.9/site-packages/sklearn/svm/_base.py:1237: ConvergenceWarning: Liblinear failed to converge, increase the number of iterations.\n",
      "  warnings.warn(\n",
      "/home/wm18vw/Documents/EnvironnementsDevPython/miniconda3/envs/ML-env/lib/python3.9/site-packages/sklearn/svm/_classes.py:31: FutureWarning: The default value of `dual` will change from `True` to `'auto'` in 1.5. Set the value of `dual` explicitly to suppress the warning.\n",
      "  warnings.warn(\n"
     ]
    },
    {
     "name": "stdout",
     "output_type": "stream",
     "text": [
      "[CV] END ...........classifier=LinearSVC(), classifier__C=10; total time=   2.5s\n"
     ]
    },
    {
     "name": "stderr",
     "output_type": "stream",
     "text": [
      "/home/wm18vw/Documents/EnvironnementsDevPython/miniconda3/envs/ML-env/lib/python3.9/site-packages/sklearn/svm/_base.py:1237: ConvergenceWarning: Liblinear failed to converge, increase the number of iterations.\n",
      "  warnings.warn(\n",
      "/home/wm18vw/Documents/EnvironnementsDevPython/miniconda3/envs/ML-env/lib/python3.9/site-packages/sklearn/svm/_classes.py:31: FutureWarning: The default value of `dual` will change from `True` to `'auto'` in 1.5. Set the value of `dual` explicitly to suppress the warning.\n",
      "  warnings.warn(\n"
     ]
    },
    {
     "name": "stdout",
     "output_type": "stream",
     "text": [
      "[CV] END ..........classifier=LinearSVC(), classifier__C=100; total time=   2.7s\n"
     ]
    },
    {
     "name": "stderr",
     "output_type": "stream",
     "text": [
      "/home/wm18vw/Documents/EnvironnementsDevPython/miniconda3/envs/ML-env/lib/python3.9/site-packages/sklearn/svm/_base.py:1237: ConvergenceWarning: Liblinear failed to converge, increase the number of iterations.\n",
      "  warnings.warn(\n",
      "/home/wm18vw/Documents/EnvironnementsDevPython/miniconda3/envs/ML-env/lib/python3.9/site-packages/sklearn/svm/_classes.py:31: FutureWarning: The default value of `dual` will change from `True` to `'auto'` in 1.5. Set the value of `dual` explicitly to suppress the warning.\n",
      "  warnings.warn(\n"
     ]
    },
    {
     "name": "stdout",
     "output_type": "stream",
     "text": [
      "[CV] END ..........classifier=LinearSVC(), classifier__C=100; total time=   2.5s\n"
     ]
    },
    {
     "name": "stderr",
     "output_type": "stream",
     "text": [
      "/home/wm18vw/Documents/EnvironnementsDevPython/miniconda3/envs/ML-env/lib/python3.9/site-packages/sklearn/svm/_base.py:1237: ConvergenceWarning: Liblinear failed to converge, increase the number of iterations.\n",
      "  warnings.warn(\n",
      "/home/wm18vw/Documents/EnvironnementsDevPython/miniconda3/envs/ML-env/lib/python3.9/site-packages/sklearn/svm/_classes.py:31: FutureWarning: The default value of `dual` will change from `True` to `'auto'` in 1.5. Set the value of `dual` explicitly to suppress the warning.\n",
      "  warnings.warn(\n"
     ]
    },
    {
     "name": "stdout",
     "output_type": "stream",
     "text": [
      "[CV] END ..........classifier=LinearSVC(), classifier__C=100; total time=   2.5s\n"
     ]
    },
    {
     "name": "stderr",
     "output_type": "stream",
     "text": [
      "/home/wm18vw/Documents/EnvironnementsDevPython/miniconda3/envs/ML-env/lib/python3.9/site-packages/sklearn/svm/_base.py:1237: ConvergenceWarning: Liblinear failed to converge, increase the number of iterations.\n",
      "  warnings.warn(\n",
      "/home/wm18vw/Documents/EnvironnementsDevPython/miniconda3/envs/ML-env/lib/python3.9/site-packages/sklearn/svm/_classes.py:31: FutureWarning: The default value of `dual` will change from `True` to `'auto'` in 1.5. Set the value of `dual` explicitly to suppress the warning.\n",
      "  warnings.warn(\n"
     ]
    },
    {
     "name": "stdout",
     "output_type": "stream",
     "text": [
      "[CV] END ..........classifier=LinearSVC(), classifier__C=100; total time=   2.3s\n"
     ]
    },
    {
     "name": "stderr",
     "output_type": "stream",
     "text": [
      "/home/wm18vw/Documents/EnvironnementsDevPython/miniconda3/envs/ML-env/lib/python3.9/site-packages/sklearn/svm/_base.py:1237: ConvergenceWarning: Liblinear failed to converge, increase the number of iterations.\n",
      "  warnings.warn(\n"
     ]
    },
    {
     "name": "stdout",
     "output_type": "stream",
     "text": [
      "[CV] END ..........classifier=LinearSVC(), classifier__C=100; total time=   2.3s\n",
      "Meilleurs paramètres trouvés :\n",
      "{'classifier': SVC(), 'classifier__C': 10, 'classifier__kernel': 'rbf'}\n",
      "Meilleur score ROC AUC :\n",
      "0.788307532891904\n"
     ]
    }
   ]
  },
  {
   "cell_type": "code",
   "source": [
    "grid_search.best_score_"
   ],
   "metadata": {
    "id": "50pSB4Rng9hc",
    "ExecuteTime": {
     "end_time": "2024-02-10T18:36:38.560906504Z",
     "start_time": "2024-02-10T18:36:38.546507191Z"
    }
   },
   "id": "50pSB4Rng9hc",
   "execution_count": 41,
   "outputs": [
    {
     "data": {
      "text/plain": "0.788307532891904"
     },
     "execution_count": 41,
     "metadata": {},
     "output_type": "execute_result"
    }
   ]
  },
  {
   "cell_type": "code",
   "source": [
    "y_pred = grid_search.predict(X_test)"
   ],
   "metadata": {
    "id": "936JNjSHhBhs",
    "ExecuteTime": {
     "end_time": "2024-02-10T18:36:48.766653328Z",
     "start_time": "2024-02-10T18:36:38.546688909Z"
    }
   },
   "id": "936JNjSHhBhs",
   "execution_count": 42,
   "outputs": []
  },
  {
   "cell_type": "code",
   "source": [
    "from sklearn.metrics import classification_report\n",
    "print(\"Rapport de classification :\")\n",
    "print(classification_report(y_test, y_pred))"
   ],
   "metadata": {
    "id": "-x4knABKhFQE",
    "ExecuteTime": {
     "end_time": "2024-02-10T18:36:48.770615990Z",
     "start_time": "2024-02-10T18:36:48.766541811Z"
    }
   },
   "id": "-x4knABKhFQE",
   "execution_count": 43,
   "outputs": [
    {
     "name": "stdout",
     "output_type": "stream",
     "text": [
      "Rapport de classification :\n",
      "              precision    recall  f1-score   support\n",
      "\n",
      "       False       0.78      0.80      0.79      5269\n",
      "        True       0.80      0.78      0.79      5324\n",
      "\n",
      "    accuracy                           0.79     10593\n",
      "   macro avg       0.79      0.79      0.79     10593\n",
      "weighted avg       0.79      0.79      0.79     10593\n"
     ]
    }
   ]
  },
  {
   "cell_type": "code",
   "source": [],
   "metadata": {
    "id": "-eNK7gQ7lPFr"
   },
   "id": "-eNK7gQ7lPFr",
   "execution_count": null,
   "outputs": []
  }
 ],
 "metadata": {
  "colab": {
   "provenance": []
  },
  "kernelspec": {
   "display_name": "Python 3",
   "language": "python",
   "name": "python3"
  },
  "language_info": {
   "codemirror_mode": {
    "name": "ipython",
    "version": 2
   },
   "file_extension": ".py",
   "mimetype": "text/x-python",
   "name": "python",
   "nbconvert_exporter": "python",
   "pygments_lexer": "ipython2",
   "version": "2.7.6"
  }
 },
 "nbformat": 4,
 "nbformat_minor": 5
}
